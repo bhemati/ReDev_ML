{
 "cells": [
  {
   "cell_type": "code",
   "execution_count": 15,
   "metadata": {},
   "outputs": [],
   "source": [
    "import pandas as pd\n",
    "import json\n",
    "import urllib.request\n",
    "import spacy"
   ]
  },
  {
   "cell_type": "code",
   "execution_count": 3,
   "metadata": {},
   "outputs": [],
   "source": [
    "with urllib.request.urlopen(\"https://api.redev.at/ml/user/45\") as url:\n",
    "            data_jd = json.load(url)"
   ]
  },
  {
   "cell_type": "code",
   "execution_count": 12,
   "metadata": {},
   "outputs": [
    {
     "data": {
      "text/plain": [
       "{'id': 45,\n",
       " 'email': 'mahdi.karimzadeh0@gmail.com',\n",
       " 'username': None,\n",
       " 'firstName': 'Mahdi',\n",
       " 'lastName': 'Karimzadeh',\n",
       " 'avatarUrl': None,\n",
       " 'headline': None,\n",
       " 'profileBio': None,\n",
       " 'website': None,\n",
       " 'isVerifiedByEmail': True,\n",
       " 'loginVia': 'email',\n",
       " 'userType': 1,\n",
       " 'jobSeekingType': 1,\n",
       " 'countryCode': None,\n",
       " 'cityId': None,\n",
       " 'skills': [{'id': 8, 'title': 'React JS'},\n",
       "  {'id': 10, 'title': 'Python'},\n",
       "  {'id': 13, 'title': 'Javascript'},\n",
       "  {'id': 18, 'title': 'Programming Languages'},\n",
       "  {'id': 19, 'title': 'Web Development'},\n",
       "  {'id': 21, 'title': 'Open Source Experience'},\n",
       "  {'id': 27, 'title': 'Front-End & Back-End Development'},\n",
       "  {'id': 29, 'title': 'Agile Development'},\n",
       "  {'id': 44, 'title': 'SQL'},\n",
       "  {'id': 47, 'title': 'Database Management'},\n",
       "  {'id': 48, 'title': 'Tables and Queries'},\n",
       "  {'id': 52, 'title': 'HTML'},\n",
       "  {'id': 54, 'title': 'CSS'},\n",
       "  {'id': 89, 'title': 'Computer science'},\n",
       "  {'id': 126, 'title': 'Troubleshooting'},\n",
       "  {'id': 184, 'title': 'Microsoft Office Suite'},\n",
       "  {'id': 195, 'title': 'Database Architecture'},\n",
       "  {'id': 197, 'title': 'Problem Solving Skills'},\n",
       "  {'id': 198, 'title': 'Linux/Unix'},\n",
       "  {'id': 206, 'title': 'Web Services'},\n",
       "  {'id': 207, 'title': 'Source Code'},\n",
       "  {'id': 208, 'title': 'Version Repository'},\n",
       "  {'id': 215, 'title': 'Project Management'},\n",
       "  {'id': 257, 'title': 'Quantitative Skills'},\n",
       "  {'id': 272, 'title': 'Visio'},\n",
       "  {'id': 277, 'title': 'Microsoft Office'},\n",
       "  {'id': 318, 'title': 'Workflow Development'},\n",
       "  {'id': 323, 'title': 'Conceptual, Logical, or Physical Data Modeling'},\n",
       "  {'id': 325, 'title': 'Advanced Physics'},\n",
       "  {'id': 362, 'title': 'Scrum'},\n",
       "  {'id': 376, 'title': 'SQL Queries'},\n",
       "  {'id': 382, 'title': 'Problem-solving'}],\n",
       " 'interests': [{'id': 1,\n",
       "   'title': 'Data Science',\n",
       "   'imageUrl': 'https://api.redev.at/drive/assets/topics/Data-Science.jpg'},\n",
       "  {'id': 8,\n",
       "   'title': 'Information Technology',\n",
       "   'imageUrl': 'https://api.redev.at/drive/assets/topics/Information-Technology.jpg'},\n",
       "  {'id': 11,\n",
       "   'title': 'Programming',\n",
       "   'imageUrl': 'https://api.redev.at/drive/assets/topics/Programming.jpg'},\n",
       "  {'id': 12,\n",
       "   'title': 'Engineering',\n",
       "   'imageUrl': 'https://api.redev.at/drive/assets/topics/Engineering.jpg'},\n",
       "  {'id': 17,\n",
       "   'title': 'Software Development',\n",
       "   'imageUrl': 'https://api.redev.at/drive/assets/topics/Software-Development.jpg'}],\n",
       " 'experiences': [{'id': 33,\n",
       "   'title': 'CTO',\n",
       "   'companyName': 'Ehsan Group',\n",
       "   'location': 'Tehran, Iran',\n",
       "   'startAt': '2020-06-01',\n",
       "   'endAt': None,\n",
       "   'headline': 'CTO @ Ehsan Group',\n",
       "   'description': 'I was responsible to build a team of developers to develop a mobile application. I did also as a DevOps engineer to run and maintain Linux servers. After a successful foundation, I moved to another company (Radman) in the group. Here, I am supposed to lead a small team of developers who  are developing an ESS (Employee Self Service) Platform.\\nRadman Co. delivers HR services to other companies and to doit more conveniently, they are to develop and continue delivering their services on this platform.\\n\\nTech Stack:\\nPython, Flask, SQLAlchemy\\nReact.js\\nGit\\nDocker\\nReact Native',\n",
       "   'employmentType': None,\n",
       "   'employmentTypeStr': '',\n",
       "   'fromToStr': 'Jun 2020 - Present'},\n",
       "  {'id': 34,\n",
       "   'title': 'Odoo Developer and Odoo Solution Advisor',\n",
       "   'companyName': 'Aria Beniz',\n",
       "   'location': 'Tehran, Iran',\n",
       "   'startAt': '2017-06-01',\n",
       "   'endAt': '2020-06-01',\n",
       "   'headline': None,\n",
       "   'description': 'Managing both software development and IT support teams.\\nResponsible to successfully develop new features / modules and build into the in-use ERP software (Odoo) package. This ERP system has been developed and are used by all subsidiaries of Beniz Holding (Aria Beniz Cooling Tower, Assan Assay, Assan Tavan, Assan Houshmand, Assan Payesh, Assan Part, and Assan Ideh)\\nAlso Responsible to implement and support all network based infra-structures in the head office, factory, and any other local offices.',\n",
       "   'employmentType': None,\n",
       "   'employmentTypeStr': '',\n",
       "   'fromToStr': 'Jun 2017 - Jun 2020'},\n",
       "  {'id': 35,\n",
       "   'title': 'R&D Specialist',\n",
       "   'companyName': 'Aria Beniz',\n",
       "   'location': 'Tehran, Iran',\n",
       "   'startAt': '2015-07-01',\n",
       "   'endAt': '2017-06-01',\n",
       "   'headline': None,\n",
       "   'description': 'Involved in R&D projects to develop new products such as, to mention a few, super-cooler and FRP axial fans in larger diameters.\\nAlso incorporated in research activities to compile new test standards for cooling tower parts as well as design of a reference test laboratory (in progress). ',\n",
       "   'employmentType': None,\n",
       "   'employmentTypeStr': '',\n",
       "   'fromToStr': 'Jul 2015 - Jun 2017'}],\n",
       " 'educations': [{'id': 23,\n",
       "   'school': 'Sharif University of Technology',\n",
       "   'degree': \"Master's\",\n",
       "   'field': 'Mechatronics Engineering',\n",
       "   'startYear': 2008,\n",
       "   'endYear': 2011},\n",
       "  {'id': 24,\n",
       "   'school': 'University of Tehran',\n",
       "   'degree': \"Bachelor's\",\n",
       "   'field': 'Mechanical Engineering',\n",
       "   'startYear': 2002,\n",
       "   'endYear': 2007}],\n",
       " 'languages': [{'id': 33,\n",
       "   'name': 'English',\n",
       "   'level': 3,\n",
       "   'levelStr': 'Advanced'},\n",
       "  {'id': 34, 'name': 'Persian', 'level': 4, 'levelStr': 'Native'}],\n",
       " 'fullName': 'Mahdi Karimzadeh',\n",
       " 'profileCompleted': True,\n",
       " 'following': False,\n",
       " 'blocked': False,\n",
       " 'restricted': False,\n",
       " 'subscription': None,\n",
       " 'totalExpInYears': 7,\n",
       " '$extras': {'skills_count': 32,\n",
       "  'interests_count': 5,\n",
       "  'followers_count': 0,\n",
       "  'followings_count': 2,\n",
       "  'posts_count': 0}}"
      ]
     },
     "execution_count": 12,
     "metadata": {},
     "output_type": "execute_result"
    }
   ],
   "source": [
    "data_jd"
   ]
  },
  {
   "cell_type": "code",
   "execution_count": 17,
   "metadata": {},
   "outputs": [],
   "source": [
    "exp_list = [x[\"description\"] for x in data_jd[\"experiences\"] if data_jd[\"experiences\"]]"
   ]
  },
  {
   "cell_type": "code",
   "execution_count": 20,
   "metadata": {},
   "outputs": [],
   "source": [
    "exp_text = \" | \".join(exp_list)"
   ]
  },
  {
   "cell_type": "code",
   "execution_count": 22,
   "metadata": {},
   "outputs": [],
   "source": [
    "nlp = spacy.load(\"skillset\")\n",
    "def create_skill_set(doc):\n",
    "            '''Create a set of the extracted skill entities of a doc'''\n",
    "            \n",
    "            return set([ent.label_.lower().replace('-', '_')[6:] for ent in doc.ents if 'skill' in ent.label_.lower()])\n",
    "\n",
    "jd_skillsets = list(create_skill_set(nlp(exp_text)))"
   ]
  },
  {
   "cell_type": "code",
   "execution_count": 23,
   "metadata": {},
   "outputs": [
    {
     "data": {
      "text/plain": [
       "['software', 'sqlalchemy', 'support', 'mobile', 'tower', 'design']"
      ]
     },
     "execution_count": 23,
     "metadata": {},
     "output_type": "execute_result"
    }
   ],
   "source": [
    "jd_skillsets"
   ]
  },
  {
   "cell_type": "code",
   "execution_count": 9,
   "metadata": {},
   "outputs": [],
   "source": [
    "edu_list = [x[\"field\"] for x in data_jd[\"educations\"] if data_jd[\"educations\"]]"
   ]
  },
  {
   "cell_type": "code",
   "execution_count": 6,
   "metadata": {},
   "outputs": [],
   "source": [
    "skills = [x[\"title\"] for x in data_jd[\"skills\"]]"
   ]
  },
  {
   "cell_type": "code",
   "execution_count": 11,
   "metadata": {},
   "outputs": [
    {
     "data": {
      "text/plain": [
       "['Mechatronics Engineering',\n",
       " 'Mechanical Engineering',\n",
       " 'React JS',\n",
       " 'Python',\n",
       " 'Javascript',\n",
       " 'Programming Languages',\n",
       " 'Web Development',\n",
       " 'Open Source Experience',\n",
       " 'Front-End & Back-End Development',\n",
       " 'Agile Development',\n",
       " 'SQL',\n",
       " 'Database Management',\n",
       " 'Tables and Queries',\n",
       " 'HTML',\n",
       " 'CSS',\n",
       " 'Computer science',\n",
       " 'Troubleshooting',\n",
       " 'Microsoft Office Suite',\n",
       " 'Database Architecture',\n",
       " 'Problem Solving Skills',\n",
       " 'Linux/Unix',\n",
       " 'Web Services',\n",
       " 'Source Code',\n",
       " 'Version Repository',\n",
       " 'Project Management',\n",
       " 'Quantitative Skills',\n",
       " 'Visio',\n",
       " 'Microsoft Office',\n",
       " 'Workflow Development',\n",
       " 'Conceptual, Logical, or Physical Data Modeling',\n",
       " 'Advanced Physics',\n",
       " 'Scrum',\n",
       " 'SQL Queries',\n",
       " 'Problem-solving']"
      ]
     },
     "execution_count": 11,
     "metadata": {},
     "output_type": "execute_result"
    }
   ],
   "source": [
    "edu_list + skills"
   ]
  },
  {
   "cell_type": "code",
   "execution_count": null,
   "metadata": {},
   "outputs": [],
   "source": []
  }
 ],
 "metadata": {
  "kernelspec": {
   "display_name": "prod",
   "language": "python",
   "name": "python3"
  },
  "language_info": {
   "codemirror_mode": {
    "name": "ipython",
    "version": 3
   },
   "file_extension": ".py",
   "mimetype": "text/x-python",
   "name": "python",
   "nbconvert_exporter": "python",
   "pygments_lexer": "ipython3",
   "version": "3.6.13 |Anaconda, Inc.| (default, Jun  4 2021, 14:25:59) \n[GCC 7.5.0]"
  },
  "orig_nbformat": 4,
  "vscode": {
   "interpreter": {
    "hash": "dc07d8608790878a70f9c65b8c50ec71718486ebfca06ef1066a10a2d6176dd2"
   }
  }
 },
 "nbformat": 4,
 "nbformat_minor": 2
}
