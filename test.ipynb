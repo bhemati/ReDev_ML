{
 "cells": [
  {
   "cell_type": "code",
   "execution_count": 14,
   "metadata": {},
   "outputs": [],
   "source": [
    "import pandas as pd\n",
    "import json\n"
   ]
  },
  {
   "cell_type": "code",
   "execution_count": 15,
   "metadata": {},
   "outputs": [],
   "source": [
    "with open(\"Upload-Resume/android.json\") as json_data:\n",
    "    data = json.load(json_data)\n",
    "df = pd.json_normalize(data)"
   ]
  },
  {
   "cell_type": "code",
   "execution_count": 16,
   "metadata": {},
   "outputs": [
    {
     "data": {
      "text/html": [
       "<div>\n",
       "<style scoped>\n",
       "    .dataframe tbody tr th:only-of-type {\n",
       "        vertical-align: middle;\n",
       "    }\n",
       "\n",
       "    .dataframe tbody tr th {\n",
       "        vertical-align: top;\n",
       "    }\n",
       "\n",
       "    .dataframe thead th {\n",
       "        text-align: right;\n",
       "    }\n",
       "</style>\n",
       "<table border=\"1\" class=\"dataframe\">\n",
       "  <thead>\n",
       "    <tr style=\"text-align: right;\">\n",
       "      <th></th>\n",
       "      <th>PhoneNo</th>\n",
       "      <th>Email</th>\n",
       "      <th>Work</th>\n",
       "      <th>string</th>\n",
       "      <th>skills</th>\n",
       "      <th>languages</th>\n",
       "    </tr>\n",
       "  </thead>\n",
       "  <tbody>\n",
       "    <tr>\n",
       "      <th>0</th>\n",
       "      <td></td>\n",
       "      <td>goudarzi1212@gmail.com</td>\n",
       "      <td>[{'company': 'Pardazesh Negar Rashin', 'positi...</td>\n",
       "      <td>Hello World</td>\n",
       "      <td>[Android, Kotlin, Flutter, Android Development...</td>\n",
       "      <td>[English, Farsi]</td>\n",
       "    </tr>\n",
       "  </tbody>\n",
       "</table>\n",
       "</div>"
      ],
      "text/plain": [
       "  PhoneNo                   Email  \\\n",
       "0          goudarzi1212@gmail.com   \n",
       "\n",
       "                                                Work       string  \\\n",
       "0  [{'company': 'Pardazesh Negar Rashin', 'positi...  Hello World   \n",
       "\n",
       "                                              skills         languages  \n",
       "0  [Android, Kotlin, Flutter, Android Development...  [English, Farsi]  "
      ]
     },
     "execution_count": 16,
     "metadata": {},
     "output_type": "execute_result"
    }
   ],
   "source": [
    "df"
   ]
  },
  {
   "cell_type": "code",
   "execution_count": 46,
   "metadata": {},
   "outputs": [
    {
     "name": "stdout",
     "output_type": "stream",
     "text": [
      "0    [{'company': 'Pardazesh Negar Rashin', 'positi...\n"
     ]
    }
   ],
   "source": [
    "print(df.Work.to_string())"
   ]
  },
  {
   "cell_type": "code",
   "execution_count": 19,
   "metadata": {},
   "outputs": [],
   "source": [
    "data_set = pd.read_excel(\"Upload-JD/JD_Updated.xlsx\")"
   ]
  },
  {
   "cell_type": "code",
   "execution_count": 43,
   "metadata": {},
   "outputs": [
    {
     "name": "stdout",
     "output_type": "stream",
     "text": [
      "0  This is json Upload-Resume/android (1).json\n",
      "================================\n",
      "         PhoneNo                    Email  \\\n",
      "0  +989126086227  hajhosseinico@gmail.com   \n",
      "\n",
      "                                                Work       string  \\\n",
      "0  [{'company': 'ComOn', 'position': 'Product Man...  Hello World   \n",
      "\n",
      "                                              skills         languages  \n",
      "0  [Kotlin,, Java,, Dagger, 2,, Coroutines,, Retr...  [English, Farsi]  \n",
      "1  This is json Upload-Resume/android.json\n",
      "================================\n",
      "  PhoneNo                   Email  \\\n",
      "0          goudarzi1212@gmail.com   \n",
      "\n",
      "                                                Work       string  \\\n",
      "0  [{'company': 'Pardazesh Negar Rashin', 'positi...  Hello World   \n",
      "\n",
      "                                              skills         languages  \n",
      "0  [Android, Kotlin, Flutter, Android Development...  [English, Farsi]  \n",
      "===================\n"
     ]
    },
    {
     "data": {
      "text/plain": [
       "['Upload-Resume/android (1).json', 'Upload-Resume/android.json']"
      ]
     },
     "execution_count": 43,
     "metadata": {},
     "output_type": "execute_result"
    }
   ],
   "source": [
    "import glob\n",
    "import os\n",
    "LIST_OF_FILES = []\n",
    "LIST_OF_FILES_JSON = []\n",
    "for file in glob.glob('**/*.json', recursive=True):\n",
    "    LIST_OF_FILES_JSON.append(file)\n",
    "LIST_OF_FILES = LIST_OF_FILES_JSON\n",
    "Jresumes = []\n",
    "Ordered_list_Resume = []\n",
    "for count,i in enumerate(LIST_OF_FILES):\n",
    "    Temp = i.rsplit('.', 1)\n",
    "    if Temp[1] == \"json\" :\n",
    "            print(count,\" This is json\" , i)\n",
    "            try:\n",
    "                with open(i) as json_data:\n",
    "                    data = json.load(json_data)\n",
    "                df = pd.json_normalize(data)\n",
    "                print(\"================================\")\n",
    "                print(df)\n",
    "                Jresumes.append(df)\n",
    "                Ordered_list_Resume.append(i)\n",
    "            except Exception as e: print(e)     \n",
    "print(\"===================\")\n",
    "LIST_OF_FILES_JSON"
   ]
  },
  {
   "cell_type": "code",
   "execution_count": null,
   "metadata": {},
   "outputs": [],
   "source": []
  }
 ],
 "metadata": {
  "kernelspec": {
   "display_name": "Python 3.8.13 ('work')",
   "language": "python",
   "name": "python3"
  },
  "language_info": {
   "codemirror_mode": {
    "name": "ipython",
    "version": 3
   },
   "file_extension": ".py",
   "mimetype": "text/x-python",
   "name": "python",
   "nbconvert_exporter": "python",
   "pygments_lexer": "ipython3",
   "version": "3.8.13"
  },
  "orig_nbformat": 4,
  "vscode": {
   "interpreter": {
    "hash": "11f76c60b6aa3b2511c023616713a2c05b7ed6256e48a6e9bfa94e670c890988"
   }
  }
 },
 "nbformat": 4,
 "nbformat_minor": 2
}
