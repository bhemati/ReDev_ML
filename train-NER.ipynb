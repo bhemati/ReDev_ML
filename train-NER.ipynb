{
 "cells": [
  {
   "cell_type": "code",
   "execution_count": 1,
   "metadata": {},
   "outputs": [],
   "source": [
    "import spacy\n",
    "from spacy.pipeline import EntityRuler\n",
    "skill_pattern_path = \"skill_patterns.jsonl\"\n",
    "nlp = spacy.load(\"en_core_web_sm\")\n",
    "def add_newruler_to_pipeline(skill_pattern_path):\n",
    "        '''Reads in all created patterns from a JSONL file and adds it to the pipeline after PARSER and before NER'''\n",
    "        ruler = nlp.add_pipe(\"entity_ruler\")\n",
    "        ruler.from_disk(skill_pattern_path)\n",
    "def create_skill_set(doc):\n",
    "    '''Create a set of the extracted skill entities of a doc'''\n",
    "    \n",
    "    return set([ent.label_.upper()[6:] for ent in doc.ents if 'skill' in ent.label_.lower()])\n",
    "\n",
    "add_newruler_to_pipeline(skill_pattern_path)\n",
    "\n"
   ]
  },
  {
   "cell_type": "code",
   "execution_count": 2,
   "metadata": {},
   "outputs": [],
   "source": [
    "nlp.to_disk('skillset')"
   ]
  },
  {
   "cell_type": "code",
   "execution_count": 3,
   "metadata": {},
   "outputs": [],
   "source": [
    "nlp2 = spacy.load('skillset')"
   ]
  },
  {
   "cell_type": "code",
   "execution_count": null,
   "metadata": {},
   "outputs": [],
   "source": []
  },
  {
   "cell_type": "code",
   "execution_count": null,
   "metadata": {},
   "outputs": [],
   "source": []
  }
 ],
 "metadata": {
  "kernelspec": {
   "display_name": "Python 3.6.15 ('ml-prod')",
   "language": "python",
   "name": "python3"
  },
  "language_info": {
   "codemirror_mode": {
    "name": "ipython",
    "version": 3
   },
   "file_extension": ".py",
   "mimetype": "text/x-python",
   "name": "python",
   "nbconvert_exporter": "python",
   "pygments_lexer": "ipython3",
   "version": "3.6.15"
  },
  "orig_nbformat": 4,
  "vscode": {
   "interpreter": {
    "hash": "286176f05d9664ec5ab9dcbafee76dc92add544249263d5730c8d990df5d9d92"
   }
  }
 },
 "nbformat": 4,
 "nbformat_minor": 2
}
