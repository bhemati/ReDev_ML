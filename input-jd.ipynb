{
 "cells": [
  {
   "cell_type": "code",
   "execution_count": 7,
   "metadata": {},
   "outputs": [],
   "source": [
    "import pandas as pd\n",
    "import json\n",
    "import urllib.request\n"
   ]
  },
  {
   "cell_type": "code",
   "execution_count": 8,
   "metadata": {},
   "outputs": [],
   "source": [
    "with open(\"Upload-JD/job.json\") as json_data:\n",
    "    data = json.load(json_data)\n",
    "df = pd.json_normalize(data)"
   ]
  },
  {
   "cell_type": "code",
   "execution_count": 11,
   "metadata": {},
   "outputs": [],
   "source": [
    "with urllib.request.urlopen(\"http://185.110.191.137:3333/ml/job/1\") as url:\n",
    "    data_jd = json.load(url)"
   ]
  },
  {
   "cell_type": "code",
   "execution_count": 10,
   "metadata": {},
   "outputs": [
    {
     "data": {
      "text/plain": [
       "'We believe our customers deserve a great experience when interacting with our platforms. We achieve this by developing the right things in the right way at the right time and with the right people. We create and enable mobile digital experiences that are engaging, robust and secure.\\n\\nWe create value for our customers and the company by understanding how and why our users use our products. We are a highly collaborative team of high performers. We love to explore, challenge and have loads of fun while challenging the status quo and experimenting.'"
      ]
     },
     "execution_count": 10,
     "metadata": {},
     "output_type": "execute_result"
    }
   ],
   "source": [
    "data['description']"
   ]
  },
  {
   "cell_type": "code",
   "execution_count": 13,
   "metadata": {},
   "outputs": [
    {
     "data": {
      "text/plain": [
       "'We are urgently looking for a Senior Application Developer (m/f) in the .Net area. This is a REMOTE direct hire for one of our clients based in San Antonio, TX.'"
      ]
     },
     "execution_count": 13,
     "metadata": {},
     "output_type": "execute_result"
    }
   ],
   "source": [
    "data_jd['description']"
   ]
  },
  {
   "cell_type": "code",
   "execution_count": 14,
   "metadata": {},
   "outputs": [
    {
     "data": {
      "text/plain": [
       "{'id': 2,\n",
       " 'title': 'Senior Mobile App Developer - iOS',\n",
       " 'description': 'We believe our customers deserve a great experience when interacting with our platforms. We achieve this by developing the right things in the right way at the right time and with the right people. We create and enable mobile digital experiences that are engaging, robust and secure.\\n\\nWe create value for our customers and the company by understanding how and why our users use our products. We are a highly collaborative team of high performers. We love to explore, challenge and have loads of fun while challenging the status quo and experimenting.',\n",
       " 'responsibilities': 'As a Senior Mobile App Developer-iOS at Parsition, you will work across a variety of disciplines and apply your talent to design, develop and maintain a variety of advanced mobile app solutions for existing, new and emerging businesses.\\n\\nThey are thought leaders on how best to use modern mobile application technologies and engineering principles to enable Parsition to provide the best service to its customers. You will coach and guide others in a cross-functional team and be committed to continuous improvement.\\n\\nThis is a great opportunity to work with talented and professional cross-functional Agile teams, bringing your experience, expertise and leadership skills while working for a company that believes in innovation, experimentation and people.',\n",
       " 'requirements': 'You have solid commercial experience in native app development at senior level using Swift or Java/Kotlin. You are an advocate of contemporary application development practices, continuous integration and delivery. You have a strong sense of quality and think architecturally when designing solutions so that they are adaptable and maintainable.\\n\\nYou are a great team player and communicator with a passion for user experience, technology and mobile applications. You will be able to provide technical leadership to other software developers and work in a collaborative, cross-functional, agile environment.\\n\\nThey love getting things done, especially shipping software!\\n\\n\\nExciting growth opportunities. Join Parsition now!',\n",
       " 'benefits': None,\n",
       " 'employment': 'Full-time',\n",
       " 'environment': 'Remote',\n",
       " 'experience': 'Senior',\n",
       " 'salaryMin': 2000,\n",
       " 'salaryMax': 2900,\n",
       " 'salaryCurrency': 'EUR',\n",
       " 'status': 'InProgress',\n",
       " 'applyDeadline': '2022-11-07T03:30:00.000+03:30',\n",
       " 'createdAt': '2022-09-08T15:01:31.000+04:30',\n",
       " 'updatedAt': '2022-09-08T15:01:31.000+04:30',\n",
       " 'cityId': 2761369,\n",
       " 'companyId': 1,\n",
       " 'city': {'id': 2761369,\n",
       "  'name': 'Vienna',\n",
       "  'subCountry': 'Vienna',\n",
       "  'countryCode': 'AT',\n",
       "  'countryName': 'Austria'},\n",
       " 'company': {'id': 1,\n",
       "  'name': 'Parsition GmbH',\n",
       "  'logoUrl': 'https://media-exp1.licdn.com/dms/image/C4E0BAQGEBAp6eOJUWg/company-logo_200_200/0/1634548998041?e=1669248000&v=beta&t=Qf3roc88SteBraewo4lHFCtwtTWeE2EE4SEShk-mW1w',\n",
       "  'coverUrl': 'https://media-exp1.licdn.com/dms/image/C4E1BAQHb21u0VMZimA/company-background_10000/0/1634548838202?e=1661878800&v=beta&t=ezC25aGYNxw5-qt0ffwNkfLshvjSzqkR7NMYqzA8ZEM',\n",
       "  'countryCode': 'AT',\n",
       "  'cityId': 2761369,\n",
       "  'about': \"Experts in web technologies, mobile technologies and digital marketing, we offer end-to-end solutions so you don't have to hire multiple companies to make your project happen.\",\n",
       "  'industry': 'Software Development',\n",
       "  'companySize': '11-50',\n",
       "  'city': {'id': 2761369,\n",
       "   'name': 'Vienna',\n",
       "   'subCountry': 'Vienna',\n",
       "   'countryCode': 'AT',\n",
       "   'countryName': 'Austria'},\n",
       "  'companySizeIndex': 2,\n",
       "  'subscription': None},\n",
       " 'roles': [{'id': 56, 'title': 'Cyberintelligence specialist'}],\n",
       " 'employmentKey': 1,\n",
       " 'environmentKey': 2,\n",
       " 'experienceKey': 4,\n",
       " 'tags': ['Full-time', 'Remote', 'Senior'],\n",
       " 'salaryStr': '~2900€/mo',\n",
       " 'sectionId': 1,\n",
       " 'roleId': 56,\n",
       " 'roleStr': 'Cyberintelligence specialist',\n",
       " 'sectionStr': 'Information Technology'}"
      ]
     },
     "execution_count": 14,
     "metadata": {},
     "output_type": "execute_result"
    }
   ],
   "source": [
    "data"
   ]
  },
  {
   "cell_type": "code",
   "execution_count": 16,
   "metadata": {},
   "outputs": [
    {
     "data": {
      "text/plain": [
       "'We are urgently looking for a Senior Application Developer (m/f) in the .Net area. This is a REMOTE direct hire for one of our clients based in San Antonio, TX.'"
      ]
     },
     "execution_count": 16,
     "metadata": {},
     "output_type": "execute_result"
    }
   ],
   "source": [
    "data_jd['description']"
   ]
  },
  {
   "cell_type": "code",
   "execution_count": null,
   "metadata": {},
   "outputs": [
    {
     "name": "stdout",
     "output_type": "stream",
     "text": [
      "0  This is json Upload-Resume/android (1).json\n",
      "================================\n",
      "         PhoneNo                    Email  \\\n",
      "0  +989126086227  hajhosseinico@gmail.com   \n",
      "\n",
      "                                                Work       string  \\\n",
      "0  [{'company': 'ComOn', 'position': 'Product Man...  Hello World   \n",
      "\n",
      "                                              skills         languages  \n",
      "0  [Kotlin,, Java,, Dagger, 2,, Coroutines,, Retr...  [English, Farsi]  \n",
      "1  This is json Upload-Resume/android.json\n",
      "================================\n",
      "  PhoneNo                   Email  \\\n",
      "0          goudarzi1212@gmail.com   \n",
      "\n",
      "                                                Work       string  \\\n",
      "0  [{'company': 'Pardazesh Negar Rashin', 'positi...  Hello World   \n",
      "\n",
      "                                              skills         languages  \n",
      "0  [Android, Kotlin, Flutter, Android Development...  [English, Farsi]  \n",
      "===================\n"
     ]
    },
    {
     "data": {
      "text/plain": [
       "['Upload-Resume/android (1).json', 'Upload-Resume/android.json']"
      ]
     },
     "execution_count": 43,
     "metadata": {},
     "output_type": "execute_result"
    }
   ],
   "source": [
    "import glob\n",
    "import os\n",
    "LIST_OF_FILES = []\n",
    "LIST_OF_FILES_JSON = []\n",
    "for file in glob.glob('**/*.json', recursive=True):\n",
    "    LIST_OF_FILES_JSON.append(file)\n",
    "LIST_OF_FILES = LIST_OF_FILES_JSON\n",
    "Jresumes = []\n",
    "Ordered_list_Resume = []\n",
    "for count,i in enumerate(LIST_OF_FILES):\n",
    "    Temp = i.rsplit('.', 1)\n",
    "    if Temp[1] == \"json\" :\n",
    "            print(count,\" This is json\" , i)\n",
    "            try:\n",
    "                with open(i) as json_data:\n",
    "                    data = json.load(json_data)\n",
    "                df = pd.json_normalize(data)\n",
    "                print(\"================================\")\n",
    "                print(df)\n",
    "                Jresumes.append(df)\n",
    "                Ordered_list_Resume.append(i)\n",
    "            except Exception as e: print(e)     \n",
    "print(\"===================\")\n",
    "LIST_OF_FILES_JSON"
   ]
  },
  {
   "cell_type": "code",
   "execution_count": null,
   "metadata": {},
   "outputs": [],
   "source": [
    "with open(\"Upload-JD/job.json\") as json_data:\n",
    "    data = json.load(json_data)\n",
    "df = pd.json_normalize(data)"
   ]
  },
  {
   "cell_type": "code",
   "execution_count": 17,
   "metadata": {},
   "outputs": [
    {
     "data": {
      "text/plain": [
       "{'id': 2,\n",
       " 'title': 'Senior Mobile App Developer - iOS',\n",
       " 'description': 'We believe our customers deserve a great experience when interacting with our platforms. We achieve this by developing the right things in the right way at the right time and with the right people. We create and enable mobile digital experiences that are engaging, robust and secure.\\n\\nWe create value for our customers and the company by understanding how and why our users use our products. We are a highly collaborative team of high performers. We love to explore, challenge and have loads of fun while challenging the status quo and experimenting.',\n",
       " 'responsibilities': 'As a Senior Mobile App Developer-iOS at Parsition, you will work across a variety of disciplines and apply your talent to design, develop and maintain a variety of advanced mobile app solutions for existing, new and emerging businesses.\\n\\nThey are thought leaders on how best to use modern mobile application technologies and engineering principles to enable Parsition to provide the best service to its customers. You will coach and guide others in a cross-functional team and be committed to continuous improvement.\\n\\nThis is a great opportunity to work with talented and professional cross-functional Agile teams, bringing your experience, expertise and leadership skills while working for a company that believes in innovation, experimentation and people.',\n",
       " 'requirements': 'You have solid commercial experience in native app development at senior level using Swift or Java/Kotlin. You are an advocate of contemporary application development practices, continuous integration and delivery. You have a strong sense of quality and think architecturally when designing solutions so that they are adaptable and maintainable.\\n\\nYou are a great team player and communicator with a passion for user experience, technology and mobile applications. You will be able to provide technical leadership to other software developers and work in a collaborative, cross-functional, agile environment.\\n\\nThey love getting things done, especially shipping software!\\n\\n\\nExciting growth opportunities. Join Parsition now!',\n",
       " 'benefits': None,\n",
       " 'employment': 'Full-time',\n",
       " 'environment': 'Remote',\n",
       " 'experience': 'Senior',\n",
       " 'salaryMin': 2000,\n",
       " 'salaryMax': 2900,\n",
       " 'salaryCurrency': 'EUR',\n",
       " 'status': 'InProgress',\n",
       " 'applyDeadline': '2022-11-07T03:30:00.000+03:30',\n",
       " 'createdAt': '2022-09-08T15:01:31.000+04:30',\n",
       " 'updatedAt': '2022-09-08T15:01:31.000+04:30',\n",
       " 'cityId': 2761369,\n",
       " 'companyId': 1,\n",
       " 'city': {'id': 2761369,\n",
       "  'name': 'Vienna',\n",
       "  'subCountry': 'Vienna',\n",
       "  'countryCode': 'AT',\n",
       "  'countryName': 'Austria'},\n",
       " 'company': {'id': 1,\n",
       "  'name': 'Parsition GmbH',\n",
       "  'logoUrl': 'https://media-exp1.licdn.com/dms/image/C4E0BAQGEBAp6eOJUWg/company-logo_200_200/0/1634548998041?e=1669248000&v=beta&t=Qf3roc88SteBraewo4lHFCtwtTWeE2EE4SEShk-mW1w',\n",
       "  'coverUrl': 'https://media-exp1.licdn.com/dms/image/C4E1BAQHb21u0VMZimA/company-background_10000/0/1634548838202?e=1661878800&v=beta&t=ezC25aGYNxw5-qt0ffwNkfLshvjSzqkR7NMYqzA8ZEM',\n",
       "  'countryCode': 'AT',\n",
       "  'cityId': 2761369,\n",
       "  'about': \"Experts in web technologies, mobile technologies and digital marketing, we offer end-to-end solutions so you don't have to hire multiple companies to make your project happen.\",\n",
       "  'industry': 'Software Development',\n",
       "  'companySize': '11-50',\n",
       "  'city': {'id': 2761369,\n",
       "   'name': 'Vienna',\n",
       "   'subCountry': 'Vienna',\n",
       "   'countryCode': 'AT',\n",
       "   'countryName': 'Austria'},\n",
       "  'companySizeIndex': 2,\n",
       "  'subscription': None},\n",
       " 'roles': [{'id': 56, 'title': 'Cyberintelligence specialist'}],\n",
       " 'employmentKey': 1,\n",
       " 'environmentKey': 2,\n",
       " 'experienceKey': 4,\n",
       " 'tags': ['Full-time', 'Remote', 'Senior'],\n",
       " 'salaryStr': '~2900€/mo',\n",
       " 'sectionId': 1,\n",
       " 'roleId': 56,\n",
       " 'roleStr': 'Cyberintelligence specialist',\n",
       " 'sectionStr': 'Information Technology'}"
      ]
     },
     "execution_count": 17,
     "metadata": {},
     "output_type": "execute_result"
    }
   ],
   "source": [
    "data"
   ]
  },
  {
   "cell_type": "code",
   "execution_count": null,
   "metadata": {},
   "outputs": [
    {
     "data": {
      "text/plain": [
       "Index(['id', 'title', 'description', 'responsibilities', 'requirements',\n",
       "       'benefits', 'employment', 'environment', 'experience', 'salaryMin',\n",
       "       'salaryMax', 'salaryCurrency', 'status', 'applyDeadline', 'createdAt',\n",
       "       'updatedAt', 'cityId', 'companyId', 'roles', 'employmentKey',\n",
       "       'environmentKey', 'experienceKey', 'tags', 'salaryStr', 'sectionId',\n",
       "       'roleId', 'roleStr', 'sectionStr', 'city.id', 'city.name',\n",
       "       'city.subCountry', 'city.countryCode', 'city.countryName', 'company.id',\n",
       "       'company.name', 'company.logoUrl', 'company.coverUrl',\n",
       "       'company.countryCode', 'company.cityId', 'company.about',\n",
       "       'company.industry', 'company.companySize', 'company.city.id',\n",
       "       'company.city.name', 'company.city.subCountry',\n",
       "       'company.city.countryCode', 'company.city.countryName',\n",
       "       'company.companySizeIndex', 'company.subscription'],\n",
       "      dtype='object')"
      ]
     },
     "execution_count": 5,
     "metadata": {},
     "output_type": "execute_result"
    }
   ],
   "source": [
    "df.columns"
   ]
  },
  {
   "cell_type": "code",
   "execution_count": null,
   "metadata": {},
   "outputs": [
    {
     "data": {
      "text/plain": [
       "[{'id': 491, 'title': 'Financial Statement Analysis'},\n",
       " {'id': 162, 'title': 'Information Retrieval Data Sets'},\n",
       " {'id': 103, 'title': 'Grand Central Dispatch (GCD)'},\n",
       " {'id': 507, 'title': 'Oracle'},\n",
       " {'id': 240, 'title': 'Active Learning'}]"
      ]
     },
     "execution_count": 14,
     "metadata": {},
     "output_type": "execute_result"
    }
   ],
   "source": [
    "df.loc[0]['user.skills']"
   ]
  },
  {
   "cell_type": "code",
   "execution_count": null,
   "metadata": {},
   "outputs": [
    {
     "data": {
      "text/plain": [
       "[{'name': 'English', 'level': 1, 'levelStr': 'Beginner'},\n",
       " {'name': 'German', 'level': 3, 'levelStr': 'Advanced'},\n",
       " {'name': 'French', 'level': 3, 'levelStr': 'Advanced'}]"
      ]
     },
     "execution_count": 15,
     "metadata": {},
     "output_type": "execute_result"
    }
   ],
   "source": [
    "df.loc[0]['user.languages']"
   ]
  },
  {
   "cell_type": "code",
   "execution_count": null,
   "metadata": {},
   "outputs": [],
   "source": []
  }
 ],
 "metadata": {
  "kernelspec": {
   "display_name": "Python 3.8.13 ('work')",
   "language": "python",
   "name": "python3"
  },
  "language_info": {
   "codemirror_mode": {
    "name": "ipython",
    "version": 3
   },
   "file_extension": ".py",
   "mimetype": "text/x-python",
   "name": "python",
   "nbconvert_exporter": "python",
   "pygments_lexer": "ipython3",
   "version": "3.8.13"
  },
  "orig_nbformat": 4,
  "vscode": {
   "interpreter": {
    "hash": "11f76c60b6aa3b2511c023616713a2c05b7ed6256e48a6e9bfa94e670c890988"
   }
  }
 },
 "nbformat": 4,
 "nbformat_minor": 2
}
