{
 "cells": [
  {
   "cell_type": "code",
   "execution_count": 2,
   "metadata": {},
   "outputs": [],
   "source": [
    "import pandas as pd\n",
    "import json\n"
   ]
  },
  {
   "cell_type": "code",
   "execution_count": 4,
   "metadata": {},
   "outputs": [],
   "source": [
    "with open(\"Upload-JD/job.json\") as json_data:\n",
    "    data = json.load(json_data)\n",
    "df = pd.json_normalize(data)"
   ]
  },
  {
   "cell_type": "code",
   "execution_count": 7,
   "metadata": {},
   "outputs": [
    {
     "data": {
      "text/plain": [
       "Index(['id', 'title', 'description', 'responsibilities', 'requirements',\n",
       "       'benefits', 'employment', 'environment', 'experience', 'salaryMin',\n",
       "       'salaryMax', 'salaryCurrency', 'status', 'applyDeadline', 'createdAt',\n",
       "       'updatedAt', 'cityId', 'companyId', 'roles', 'employmentKey',\n",
       "       'environmentKey', 'experienceKey', 'tags', 'salaryStr', 'sectionId',\n",
       "       'roleId', 'roleStr', 'sectionStr', 'city.id', 'city.name',\n",
       "       'city.subCountry', 'city.countryCode', 'city.countryName', 'company.id',\n",
       "       'company.name', 'company.logoUrl', 'company.coverUrl',\n",
       "       'company.countryCode', 'company.cityId', 'company.about',\n",
       "       'company.industry', 'company.companySize', 'company.city.id',\n",
       "       'company.city.name', 'company.city.subCountry',\n",
       "       'company.city.countryCode', 'company.city.countryName',\n",
       "       'company.companySizeIndex', 'company.subscription'],\n",
       "      dtype='object')"
      ]
     },
     "execution_count": 7,
     "metadata": {},
     "output_type": "execute_result"
    }
   ],
   "source": [
    "df.columns"
   ]
  },
  {
   "cell_type": "code",
   "execution_count": 8,
   "metadata": {},
   "outputs": [
    {
     "data": {
      "text/html": [
       "<div>\n",
       "<style scoped>\n",
       "    .dataframe tbody tr th:only-of-type {\n",
       "        vertical-align: middle;\n",
       "    }\n",
       "\n",
       "    .dataframe tbody tr th {\n",
       "        vertical-align: top;\n",
       "    }\n",
       "\n",
       "    .dataframe thead th {\n",
       "        text-align: right;\n",
       "    }\n",
       "</style>\n",
       "<table border=\"1\" class=\"dataframe\">\n",
       "  <thead>\n",
       "    <tr style=\"text-align: right;\">\n",
       "      <th></th>\n",
       "      <th>id</th>\n",
       "      <th>title</th>\n",
       "      <th>description</th>\n",
       "      <th>responsibilities</th>\n",
       "      <th>requirements</th>\n",
       "      <th>benefits</th>\n",
       "      <th>employment</th>\n",
       "      <th>environment</th>\n",
       "      <th>experience</th>\n",
       "      <th>salaryMin</th>\n",
       "      <th>...</th>\n",
       "      <th>company.about</th>\n",
       "      <th>company.industry</th>\n",
       "      <th>company.companySize</th>\n",
       "      <th>company.city.id</th>\n",
       "      <th>company.city.name</th>\n",
       "      <th>company.city.subCountry</th>\n",
       "      <th>company.city.countryCode</th>\n",
       "      <th>company.city.countryName</th>\n",
       "      <th>company.companySizeIndex</th>\n",
       "      <th>company.subscription</th>\n",
       "    </tr>\n",
       "  </thead>\n",
       "  <tbody>\n",
       "    <tr>\n",
       "      <th>0</th>\n",
       "      <td>2</td>\n",
       "      <td>Senior Mobile App Developer - iOS</td>\n",
       "      <td>We believe our customers deserve a great exper...</td>\n",
       "      <td>As a Senior Mobile App Developer-iOS at Parsit...</td>\n",
       "      <td>You have solid commercial experience in native...</td>\n",
       "      <td>None</td>\n",
       "      <td>Full-time</td>\n",
       "      <td>Remote</td>\n",
       "      <td>Senior</td>\n",
       "      <td>2000</td>\n",
       "      <td>...</td>\n",
       "      <td>Experts in web technologies, mobile technologi...</td>\n",
       "      <td>Software Development</td>\n",
       "      <td>11-50</td>\n",
       "      <td>2761369</td>\n",
       "      <td>Vienna</td>\n",
       "      <td>Vienna</td>\n",
       "      <td>AT</td>\n",
       "      <td>Austria</td>\n",
       "      <td>2</td>\n",
       "      <td>None</td>\n",
       "    </tr>\n",
       "  </tbody>\n",
       "</table>\n",
       "<p>1 rows × 49 columns</p>\n",
       "</div>"
      ],
      "text/plain": [
       "   id                              title  \\\n",
       "0   2  Senior Mobile App Developer - iOS   \n",
       "\n",
       "                                         description  \\\n",
       "0  We believe our customers deserve a great exper...   \n",
       "\n",
       "                                    responsibilities  \\\n",
       "0  As a Senior Mobile App Developer-iOS at Parsit...   \n",
       "\n",
       "                                        requirements benefits employment  \\\n",
       "0  You have solid commercial experience in native...     None  Full-time   \n",
       "\n",
       "  environment experience  salaryMin  ...  \\\n",
       "0      Remote     Senior       2000  ...   \n",
       "\n",
       "                                       company.about      company.industry  \\\n",
       "0  Experts in web technologies, mobile technologi...  Software Development   \n",
       "\n",
       "  company.companySize company.city.id company.city.name  \\\n",
       "0               11-50         2761369            Vienna   \n",
       "\n",
       "  company.city.subCountry  company.city.countryCode  company.city.countryName  \\\n",
       "0                  Vienna                        AT                   Austria   \n",
       "\n",
       "  company.companySizeIndex  company.subscription  \n",
       "0                        2                  None  \n",
       "\n",
       "[1 rows x 49 columns]"
      ]
     },
     "execution_count": 8,
     "metadata": {},
     "output_type": "execute_result"
    }
   ],
   "source": [
    "df"
   ]
  },
  {
   "cell_type": "code",
   "execution_count": 9,
   "metadata": {},
   "outputs": [
    {
     "data": {
      "text/plain": [
       "'You have solid commercial experience in native app development at senior level using Swift or Java/Kotlin. You are an advocate of contemporary application development practices, continuous integration and delivery. You have a strong sense of quality and think architecturally when designing solutions so that they are adaptable and maintainable.\\n\\nYou are a great team player and communicator with a passion for user experience, technology and mobile applications. You will be able to provide technical leadership to other software developers and work in a collaborative, cross-functional, agile environment.\\n\\nThey love getting things done, especially shipping software!\\n\\n\\nExciting growth opportunities. Join Parsition now!'"
      ]
     },
     "execution_count": 9,
     "metadata": {},
     "output_type": "execute_result"
    }
   ],
   "source": [
    "data['requirements']"
   ]
  },
  {
   "cell_type": "code",
   "execution_count": null,
   "metadata": {},
   "outputs": [
    {
     "name": "stdout",
     "output_type": "stream",
     "text": [
      "0  This is json Upload-Resume/android (1).json\n",
      "================================\n",
      "         PhoneNo                    Email  \\\n",
      "0  +989126086227  hajhosseinico@gmail.com   \n",
      "\n",
      "                                                Work       string  \\\n",
      "0  [{'company': 'ComOn', 'position': 'Product Man...  Hello World   \n",
      "\n",
      "                                              skills         languages  \n",
      "0  [Kotlin,, Java,, Dagger, 2,, Coroutines,, Retr...  [English, Farsi]  \n",
      "1  This is json Upload-Resume/android.json\n",
      "================================\n",
      "  PhoneNo                   Email  \\\n",
      "0          goudarzi1212@gmail.com   \n",
      "\n",
      "                                                Work       string  \\\n",
      "0  [{'company': 'Pardazesh Negar Rashin', 'positi...  Hello World   \n",
      "\n",
      "                                              skills         languages  \n",
      "0  [Android, Kotlin, Flutter, Android Development...  [English, Farsi]  \n",
      "===================\n"
     ]
    },
    {
     "data": {
      "text/plain": [
       "['Upload-Resume/android (1).json', 'Upload-Resume/android.json']"
      ]
     },
     "execution_count": 43,
     "metadata": {},
     "output_type": "execute_result"
    }
   ],
   "source": [
    "import glob\n",
    "import os\n",
    "LIST_OF_FILES = []\n",
    "LIST_OF_FILES_JSON = []\n",
    "for file in glob.glob('**/*.json', recursive=True):\n",
    "    LIST_OF_FILES_JSON.append(file)\n",
    "LIST_OF_FILES = LIST_OF_FILES_JSON\n",
    "Jresumes = []\n",
    "Ordered_list_Resume = []\n",
    "for count,i in enumerate(LIST_OF_FILES):\n",
    "    Temp = i.rsplit('.', 1)\n",
    "    if Temp[1] == \"json\" :\n",
    "            print(count,\" This is json\" , i)\n",
    "            try:\n",
    "                with open(i) as json_data:\n",
    "                    data = json.load(json_data)\n",
    "                df = pd.json_normalize(data)\n",
    "                print(\"================================\")\n",
    "                print(df)\n",
    "                Jresumes.append(df)\n",
    "                Ordered_list_Resume.append(i)\n",
    "            except Exception as e: print(e)     \n",
    "print(\"===================\")\n",
    "LIST_OF_FILES_JSON"
   ]
  },
  {
   "cell_type": "code",
   "execution_count": null,
   "metadata": {},
   "outputs": [],
   "source": [
    "with open(\"Upload-JD/job.json\") as json_data:\n",
    "    data = json.load(json_data)\n",
    "df = pd.json_normalize(data)"
   ]
  },
  {
   "cell_type": "code",
   "execution_count": null,
   "metadata": {},
   "outputs": [
    {
     "ename": "NameError",
     "evalue": "name 'data' is not defined",
     "output_type": "error",
     "traceback": [
      "\u001b[0;31m---------------------------------------------------------------------------\u001b[0m",
      "\u001b[0;31mNameError\u001b[0m                                 Traceback (most recent call last)",
      "\u001b[1;32m/home/behrad/Documents/ReDev_ML-main/input-jd.ipynb Cell 8\u001b[0m in \u001b[0;36m<cell line: 1>\u001b[0;34m()\u001b[0m\n\u001b[0;32m----> <a href='vscode-notebook-cell:/home/behrad/Documents/ReDev_ML-main/input-jd.ipynb#X10sZmlsZQ%3D%3D?line=0'>1</a>\u001b[0m data\n",
      "\u001b[0;31mNameError\u001b[0m: name 'data' is not defined"
     ]
    }
   ],
   "source": [
    "data"
   ]
  },
  {
   "cell_type": "code",
   "execution_count": null,
   "metadata": {},
   "outputs": [
    {
     "data": {
      "text/plain": [
       "Index(['id', 'title', 'description', 'responsibilities', 'requirements',\n",
       "       'benefits', 'employment', 'environment', 'experience', 'salaryMin',\n",
       "       'salaryMax', 'salaryCurrency', 'status', 'applyDeadline', 'createdAt',\n",
       "       'updatedAt', 'cityId', 'companyId', 'roles', 'employmentKey',\n",
       "       'environmentKey', 'experienceKey', 'tags', 'salaryStr', 'sectionId',\n",
       "       'roleId', 'roleStr', 'sectionStr', 'city.id', 'city.name',\n",
       "       'city.subCountry', 'city.countryCode', 'city.countryName', 'company.id',\n",
       "       'company.name', 'company.logoUrl', 'company.coverUrl',\n",
       "       'company.countryCode', 'company.cityId', 'company.about',\n",
       "       'company.industry', 'company.companySize', 'company.city.id',\n",
       "       'company.city.name', 'company.city.subCountry',\n",
       "       'company.city.countryCode', 'company.city.countryName',\n",
       "       'company.companySizeIndex', 'company.subscription'],\n",
       "      dtype='object')"
      ]
     },
     "execution_count": 5,
     "metadata": {},
     "output_type": "execute_result"
    }
   ],
   "source": [
    "df.columns"
   ]
  },
  {
   "cell_type": "code",
   "execution_count": null,
   "metadata": {},
   "outputs": [
    {
     "data": {
      "text/plain": [
       "[{'id': 491, 'title': 'Financial Statement Analysis'},\n",
       " {'id': 162, 'title': 'Information Retrieval Data Sets'},\n",
       " {'id': 103, 'title': 'Grand Central Dispatch (GCD)'},\n",
       " {'id': 507, 'title': 'Oracle'},\n",
       " {'id': 240, 'title': 'Active Learning'}]"
      ]
     },
     "execution_count": 14,
     "metadata": {},
     "output_type": "execute_result"
    }
   ],
   "source": [
    "df.loc[0]['user.skills']"
   ]
  },
  {
   "cell_type": "code",
   "execution_count": null,
   "metadata": {},
   "outputs": [
    {
     "data": {
      "text/plain": [
       "[{'name': 'English', 'level': 1, 'levelStr': 'Beginner'},\n",
       " {'name': 'German', 'level': 3, 'levelStr': 'Advanced'},\n",
       " {'name': 'French', 'level': 3, 'levelStr': 'Advanced'}]"
      ]
     },
     "execution_count": 15,
     "metadata": {},
     "output_type": "execute_result"
    }
   ],
   "source": [
    "df.loc[0]['user.languages']"
   ]
  },
  {
   "cell_type": "code",
   "execution_count": null,
   "metadata": {},
   "outputs": [],
   "source": []
  }
 ],
 "metadata": {
  "kernelspec": {
   "display_name": "Python 3.8.13 ('work')",
   "language": "python",
   "name": "python3"
  },
  "language_info": {
   "codemirror_mode": {
    "name": "ipython",
    "version": 3
   },
   "file_extension": ".py",
   "mimetype": "text/x-python",
   "name": "python",
   "nbconvert_exporter": "python",
   "pygments_lexer": "ipython3",
   "version": "3.8.13"
  },
  "orig_nbformat": 4,
  "vscode": {
   "interpreter": {
    "hash": "11f76c60b6aa3b2511c023616713a2c05b7ed6256e48a6e9bfa94e670c890988"
   }
  }
 },
 "nbformat": 4,
 "nbformat_minor": 2
}
