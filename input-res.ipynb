{
 "cells": [
  {
   "cell_type": "code",
   "execution_count": 18,
   "metadata": {},
   "outputs": [],
   "source": [
    "import pandas as pd\n",
    "import json\n",
    "from datetime import datetime\n",
    "from dateutil.relativedelta import relativedelta\n"
   ]
  },
  {
   "cell_type": "code",
   "execution_count": 2,
   "metadata": {},
   "outputs": [
    {
     "ename": "FileNotFoundError",
     "evalue": "[Errno 2] No such file or directory: 'Upload-Resume/android.json'",
     "output_type": "error",
     "traceback": [
      "\u001b[0;31m---------------------------------------------------------------------------\u001b[0m",
      "\u001b[0;31mFileNotFoundError\u001b[0m                         Traceback (most recent call last)",
      "\u001b[1;32m/home/behrad/Documents/ReDev_ML-main/input-res.ipynb Cell 2\u001b[0m in \u001b[0;36m<cell line: 1>\u001b[0;34m()\u001b[0m\n\u001b[0;32m----> <a href='vscode-notebook-cell:/home/behrad/Documents/ReDev_ML-main/input-res.ipynb#W1sZmlsZQ%3D%3D?line=0'>1</a>\u001b[0m \u001b[39mwith\u001b[39;00m \u001b[39mopen\u001b[39;49m(\u001b[39m\"\u001b[39;49m\u001b[39mUpload-Resume/android.json\u001b[39;49m\u001b[39m\"\u001b[39;49m) \u001b[39mas\u001b[39;00m json_data:\n\u001b[1;32m      <a href='vscode-notebook-cell:/home/behrad/Documents/ReDev_ML-main/input-res.ipynb#W1sZmlsZQ%3D%3D?line=1'>2</a>\u001b[0m     data \u001b[39m=\u001b[39m json\u001b[39m.\u001b[39mload(json_data)\n\u001b[1;32m      <a href='vscode-notebook-cell:/home/behrad/Documents/ReDev_ML-main/input-res.ipynb#W1sZmlsZQ%3D%3D?line=2'>3</a>\u001b[0m df \u001b[39m=\u001b[39m pd\u001b[39m.\u001b[39mjson_normalize(data)\n",
      "\u001b[0;31mFileNotFoundError\u001b[0m: [Errno 2] No such file or directory: 'Upload-Resume/android.json'"
     ]
    }
   ],
   "source": [
    "with open(\"Upload-Resume/android.json\") as json_data:\n",
    "    data = json.load(json_data)\n",
    "df = pd.json_normalize(data)"
   ]
  },
  {
   "cell_type": "code",
   "execution_count": null,
   "metadata": {},
   "outputs": [
    {
     "data": {
      "text/html": [
       "<div>\n",
       "<style scoped>\n",
       "    .dataframe tbody tr th:only-of-type {\n",
       "        vertical-align: middle;\n",
       "    }\n",
       "\n",
       "    .dataframe tbody tr th {\n",
       "        vertical-align: top;\n",
       "    }\n",
       "\n",
       "    .dataframe thead th {\n",
       "        text-align: right;\n",
       "    }\n",
       "</style>\n",
       "<table border=\"1\" class=\"dataframe\">\n",
       "  <thead>\n",
       "    <tr style=\"text-align: right;\">\n",
       "      <th></th>\n",
       "      <th>PhoneNo</th>\n",
       "      <th>Email</th>\n",
       "      <th>Work</th>\n",
       "      <th>string</th>\n",
       "      <th>skills</th>\n",
       "      <th>languages</th>\n",
       "    </tr>\n",
       "  </thead>\n",
       "  <tbody>\n",
       "    <tr>\n",
       "      <th>0</th>\n",
       "      <td></td>\n",
       "      <td>goudarzi1212@gmail.com</td>\n",
       "      <td>[{'company': 'Pardazesh Negar Rashin', 'positi...</td>\n",
       "      <td>Hello World</td>\n",
       "      <td>[Android, Kotlin, Flutter, Android Development...</td>\n",
       "      <td>[English, Farsi]</td>\n",
       "    </tr>\n",
       "  </tbody>\n",
       "</table>\n",
       "</div>"
      ],
      "text/plain": [
       "  PhoneNo                   Email  \\\n",
       "0          goudarzi1212@gmail.com   \n",
       "\n",
       "                                                Work       string  \\\n",
       "0  [{'company': 'Pardazesh Negar Rashin', 'positi...  Hello World   \n",
       "\n",
       "                                              skills         languages  \n",
       "0  [Android, Kotlin, Flutter, Android Development...  [English, Farsi]  "
      ]
     },
     "execution_count": 3,
     "metadata": {},
     "output_type": "execute_result"
    }
   ],
   "source": [
    "df"
   ]
  },
  {
   "cell_type": "code",
   "execution_count": null,
   "metadata": {},
   "outputs": [
    {
     "name": "stdout",
     "output_type": "stream",
     "text": [
      "0    [{'company': 'Pardazesh Negar Rashin', 'positi...\n"
     ]
    }
   ],
   "source": [
    "print(df.Work.to_string())"
   ]
  },
  {
   "cell_type": "code",
   "execution_count": 3,
   "metadata": {},
   "outputs": [],
   "source": [
    "data_set = pd.read_excel(\"Upload-JD/JD_Updated.xlsx\")"
   ]
  },
  {
   "cell_type": "code",
   "execution_count": 4,
   "metadata": {},
   "outputs": [
    {
     "name": "stdout",
     "output_type": "stream",
     "text": [
      "0  This is json json_data.json\n",
      "Expecting value: line 1 column 1 (char 0)\n",
      "1  This is json Upload-JD/job.json\n",
      "================================\n",
      "   id                              title  \\\n",
      "0   2  Senior Mobile App Developer - iOS   \n",
      "\n",
      "                                         description  \\\n",
      "0  We believe our customers deserve a great exper...   \n",
      "\n",
      "                                    responsibilities  \\\n",
      "0  As a Senior Mobile App Developer-iOS at Parsit...   \n",
      "\n",
      "                                        requirements benefits employment  \\\n",
      "0  You have solid commercial experience in native...     None  Full-time   \n",
      "\n",
      "  environment experience  salaryMin  ...  \\\n",
      "0      Remote     Senior       2000  ...   \n",
      "\n",
      "                                       company.about      company.industry  \\\n",
      "0  Experts in web technologies, mobile technologi...  Software Development   \n",
      "\n",
      "  company.companySize company.city.id company.city.name  \\\n",
      "0               11-50         2761369            Vienna   \n",
      "\n",
      "  company.city.subCountry  company.city.countryCode  company.city.countryName  \\\n",
      "0                  Vienna                        AT                   Austria   \n",
      "\n",
      "  company.companySizeIndex  company.subscription  \n",
      "0                        2                  None  \n",
      "\n",
      "[1 rows x 49 columns]\n",
      "2  This is json Upload-Resume/applicant.json\n",
      "================================\n",
      "   id  jobId  userId                   email phoneCountryCode     phoneNumber  \\\n",
      "0  87      1      28  Rowland_Jast@yahoo.com               43  1-601-620-6580   \n",
      "\n",
      "                                     qa                      createdAt  \\\n",
      "0  [{'answer': 'Yes', 'questionId': 1}]  2022-09-08T15:02:06.000+04:30   \n",
      "\n",
      "                       updatedAt  assessmentScore  ...  \\\n",
      "0  2022-09-08T15:02:06.000+04:30             65.5  ...   \n",
      "\n",
      "                                      user.interests  \\\n",
      "0  [{'id': 5, 'title': 'Cyber Security', 'imageUr...   \n",
      "\n",
      "                                      user.languages  \\\n",
      "0  [{'name': 'English', 'level': 1, 'levelStr': '...   \n",
      "\n",
      "                                         user.skills  \\\n",
      "0  [{'id': 491, 'title': 'Financial Statement Ana...   \n",
      "\n",
      "                                     user.educations  \\\n",
      "0  [{'id': 378, 'school': 'Texas A&M University',...   \n",
      "\n",
      "                                    user.experiences user.fullName  \\\n",
      "0  [{'id': 577, 'title': 'National Mobility Manag...  Aisha Erdman   \n",
      "\n",
      "  user.$extras.skills_count user.$extras.interests_count  \\\n",
      "0                         5                            5   \n",
      "\n",
      "  user.$extras.followers_count  user.$extras.posts_count  \n",
      "0                           28                        19  \n",
      "\n",
      "[1 rows x 33 columns]\n",
      "===================\n"
     ]
    },
    {
     "data": {
      "text/plain": [
       "['json_data.json', 'Upload-JD/job.json', 'Upload-Resume/applicant.json']"
      ]
     },
     "execution_count": 4,
     "metadata": {},
     "output_type": "execute_result"
    }
   ],
   "source": [
    "import glob\n",
    "import os\n",
    "LIST_OF_FILES = []\n",
    "LIST_OF_FILES_JSON = []\n",
    "for file in glob.glob('**/*.json', recursive=True):\n",
    "    LIST_OF_FILES_JSON.append(file)\n",
    "LIST_OF_FILES = LIST_OF_FILES_JSON\n",
    "Jresumes = []\n",
    "Ordered_list_Resume = []\n",
    "for count,i in enumerate(LIST_OF_FILES):\n",
    "    Temp = i.rsplit('.', 1)\n",
    "    if Temp[1] == \"json\" :\n",
    "            print(count,\" This is json\" , i)\n",
    "            try:\n",
    "                with open(i) as json_data:\n",
    "                    data = json.load(json_data)\n",
    "                df = pd.json_normalize(data)\n",
    "                print(\"================================\")\n",
    "                print(df)\n",
    "                Jresumes.append(df)\n",
    "                Ordered_list_Resume.append(i)\n",
    "            except Exception as e: print(e)     \n",
    "print(\"===================\")\n",
    "LIST_OF_FILES_JSON"
   ]
  },
  {
   "cell_type": "code",
   "execution_count": 5,
   "metadata": {},
   "outputs": [],
   "source": [
    "with open(\"Upload-Resume/applicant.json\") as json_data:\n",
    "    data = json.load(json_data)\n",
    "df = pd.json_normalize(data)"
   ]
  },
  {
   "cell_type": "code",
   "execution_count": 6,
   "metadata": {},
   "outputs": [
    {
     "data": {
      "text/html": [
       "<div>\n",
       "<style scoped>\n",
       "    .dataframe tbody tr th:only-of-type {\n",
       "        vertical-align: middle;\n",
       "    }\n",
       "\n",
       "    .dataframe tbody tr th {\n",
       "        vertical-align: top;\n",
       "    }\n",
       "\n",
       "    .dataframe thead th {\n",
       "        text-align: right;\n",
       "    }\n",
       "</style>\n",
       "<table border=\"1\" class=\"dataframe\">\n",
       "  <thead>\n",
       "    <tr style=\"text-align: right;\">\n",
       "      <th></th>\n",
       "      <th>id</th>\n",
       "      <th>jobId</th>\n",
       "      <th>userId</th>\n",
       "      <th>email</th>\n",
       "      <th>phoneCountryCode</th>\n",
       "      <th>phoneNumber</th>\n",
       "      <th>qa</th>\n",
       "      <th>createdAt</th>\n",
       "      <th>updatedAt</th>\n",
       "      <th>assessmentScore</th>\n",
       "      <th>...</th>\n",
       "      <th>user.interests</th>\n",
       "      <th>user.languages</th>\n",
       "      <th>user.skills</th>\n",
       "      <th>user.educations</th>\n",
       "      <th>user.experiences</th>\n",
       "      <th>user.fullName</th>\n",
       "      <th>user.$extras.skills_count</th>\n",
       "      <th>user.$extras.interests_count</th>\n",
       "      <th>user.$extras.followers_count</th>\n",
       "      <th>user.$extras.posts_count</th>\n",
       "    </tr>\n",
       "  </thead>\n",
       "  <tbody>\n",
       "    <tr>\n",
       "      <th>0</th>\n",
       "      <td>87</td>\n",
       "      <td>1</td>\n",
       "      <td>28</td>\n",
       "      <td>Rowland_Jast@yahoo.com</td>\n",
       "      <td>43</td>\n",
       "      <td>1-601-620-6580</td>\n",
       "      <td>[{'answer': 'Yes', 'questionId': 1}]</td>\n",
       "      <td>2022-09-08T15:02:06.000+04:30</td>\n",
       "      <td>2022-09-08T15:02:06.000+04:30</td>\n",
       "      <td>65.5</td>\n",
       "      <td>...</td>\n",
       "      <td>[{'id': 5, 'title': 'Cyber Security', 'imageUr...</td>\n",
       "      <td>[{'name': 'English', 'level': 1, 'levelStr': '...</td>\n",
       "      <td>[{'id': 491, 'title': 'Financial Statement Ana...</td>\n",
       "      <td>[{'id': 378, 'school': 'Texas A&amp;M University',...</td>\n",
       "      <td>[{'id': 577, 'title': 'National Mobility Manag...</td>\n",
       "      <td>Aisha Erdman</td>\n",
       "      <td>5</td>\n",
       "      <td>5</td>\n",
       "      <td>28</td>\n",
       "      <td>19</td>\n",
       "    </tr>\n",
       "  </tbody>\n",
       "</table>\n",
       "<p>1 rows × 33 columns</p>\n",
       "</div>"
      ],
      "text/plain": [
       "   id  jobId  userId                   email phoneCountryCode     phoneNumber  \\\n",
       "0  87      1      28  Rowland_Jast@yahoo.com               43  1-601-620-6580   \n",
       "\n",
       "                                     qa                      createdAt  \\\n",
       "0  [{'answer': 'Yes', 'questionId': 1}]  2022-09-08T15:02:06.000+04:30   \n",
       "\n",
       "                       updatedAt  assessmentScore  ...  \\\n",
       "0  2022-09-08T15:02:06.000+04:30             65.5  ...   \n",
       "\n",
       "                                      user.interests  \\\n",
       "0  [{'id': 5, 'title': 'Cyber Security', 'imageUr...   \n",
       "\n",
       "                                      user.languages  \\\n",
       "0  [{'name': 'English', 'level': 1, 'levelStr': '...   \n",
       "\n",
       "                                         user.skills  \\\n",
       "0  [{'id': 491, 'title': 'Financial Statement Ana...   \n",
       "\n",
       "                                     user.educations  \\\n",
       "0  [{'id': 378, 'school': 'Texas A&M University',...   \n",
       "\n",
       "                                    user.experiences user.fullName  \\\n",
       "0  [{'id': 577, 'title': 'National Mobility Manag...  Aisha Erdman   \n",
       "\n",
       "  user.$extras.skills_count user.$extras.interests_count  \\\n",
       "0                         5                            5   \n",
       "\n",
       "  user.$extras.followers_count  user.$extras.posts_count  \n",
       "0                           28                        19  \n",
       "\n",
       "[1 rows x 33 columns]"
      ]
     },
     "execution_count": 6,
     "metadata": {},
     "output_type": "execute_result"
    }
   ],
   "source": [
    "df"
   ]
  },
  {
   "cell_type": "code",
   "execution_count": 7,
   "metadata": {},
   "outputs": [
    {
     "data": {
      "text/plain": [
       "Index(['id', 'jobId', 'userId', 'email', 'phoneCountryCode', 'phoneNumber',\n",
       "       'qa', 'createdAt', 'updatedAt', 'assessmentScore', 'user.id',\n",
       "       'user.email', 'user.username', 'user.firstName', 'user.lastName',\n",
       "       'user.avatarUrl', 'user.headline', 'user.profileBio', 'user.website',\n",
       "       'user.isVerifiedByEmail', 'user.loginVia', 'user.userType',\n",
       "       'user.jobSeekingType', 'user.interests', 'user.languages',\n",
       "       'user.skills', 'user.educations', 'user.experiences', 'user.fullName',\n",
       "       'user.$extras.skills_count', 'user.$extras.interests_count',\n",
       "       'user.$extras.followers_count', 'user.$extras.posts_count'],\n",
       "      dtype='object')"
      ]
     },
     "execution_count": 7,
     "metadata": {},
     "output_type": "execute_result"
    }
   ],
   "source": [
    "df.columns"
   ]
  },
  {
   "cell_type": "code",
   "execution_count": 8,
   "metadata": {},
   "outputs": [
    {
     "data": {
      "text/plain": [
       "'Financial Statement Analysis, Information Retrieval Data Sets, Grand Central Dispatch (GCD), Oracle, Active Learning'"
      ]
     },
     "execution_count": 8,
     "metadata": {},
     "output_type": "execute_result"
    }
   ],
   "source": [
    "\", \".join([x['title'] for x in df.loc[0]['user.skills']])"
   ]
  },
  {
   "cell_type": "code",
   "execution_count": 21,
   "metadata": {},
   "outputs": [
    {
     "data": {
      "text/plain": [
       "[{'id': 577,\n",
       "  'title': 'National Mobility Manager',\n",
       "  'companyName': 'Anderson - Heaney',\n",
       "  'location': 'Plainfield, AL',\n",
       "  'startAt': '2012-04-14',\n",
       "  'endAt': '2012-12-14',\n",
       "  'headline': None,\n",
       "  'description': 'Cumque totam tenetur. Vero neque in aspernatur alias perferendis qui corrupti. Saepe totam accusamus aliquid est impedit ipsam quos autem fugiat. Dolores omnis maxime.',\n",
       "  'employmentType': 1,\n",
       "  'employmentTypeStr': 'Full-time',\n",
       "  'fromToStr': 'Apr 2012 - Dec 2012'}]"
      ]
     },
     "execution_count": 21,
     "metadata": {},
     "output_type": "execute_result"
    }
   ],
   "source": [
    "data['user']['experiences']"
   ]
  },
  {
   "cell_type": "code",
   "execution_count": 17,
   "metadata": {},
   "outputs": [
    {
     "data": {
      "text/plain": [
       "'2012-04-14'"
      ]
     },
     "execution_count": 17,
     "metadata": {},
     "output_type": "execute_result"
    }
   ],
   "source": [
    "data['user']['experiences'][0]['startAt']"
   ]
  },
  {
   "cell_type": "code",
   "execution_count": 19,
   "metadata": {},
   "outputs": [
    {
     "data": {
      "text/plain": [
       "datetime.datetime(2012, 4, 14, 0, 0)"
      ]
     },
     "execution_count": 19,
     "metadata": {},
     "output_type": "execute_result"
    }
   ],
   "source": [
    "datetime.strptime(data['user']['experiences'][0]['startAt'], \"%Y-%m-%d\")"
   ]
  },
  {
   "cell_type": "code",
   "execution_count": 10,
   "metadata": {},
   "outputs": [
    {
     "data": {
      "text/plain": [
       "'[{\"id\": 491, \"title\": \"Financial Statement Analysis\"}, {\"id\": 162, \"title\": \"Information Retrieval Data Sets\"}, {\"id\": 103, \"title\": \"Grand Central Dispatch (GCD)\"}, {\"id\": 507, \"title\": \"Oracle\"}, {\"id\": 240, \"title\": \"Active Learning\"}]'"
      ]
     },
     "execution_count": 10,
     "metadata": {},
     "output_type": "execute_result"
    }
   ],
   "source": [
    "json.dumps(df.loc[0]['user.skills'])"
   ]
  },
  {
   "cell_type": "code",
   "execution_count": 11,
   "metadata": {},
   "outputs": [
    {
     "data": {
      "text/plain": [
       "[{'name': 'English', 'level': 1, 'levelStr': 'Beginner'},\n",
       " {'name': 'German', 'level': 3, 'levelStr': 'Advanced'},\n",
       " {'name': 'French', 'level': 3, 'levelStr': 'Advanced'}]"
      ]
     },
     "execution_count": 11,
     "metadata": {},
     "output_type": "execute_result"
    }
   ],
   "source": [
    "df.loc[0]['user.languages']"
   ]
  },
  {
   "cell_type": "code",
   "execution_count": 12,
   "metadata": {},
   "outputs": [
    {
     "data": {
      "text/plain": [
       "[{'id': 577,\n",
       "  'title': 'National Mobility Manager',\n",
       "  'companyName': 'Anderson - Heaney',\n",
       "  'location': 'Plainfield, AL',\n",
       "  'startAt': '2012-04-14',\n",
       "  'endAt': '2012-12-14',\n",
       "  'headline': None,\n",
       "  'description': 'Cumque totam tenetur. Vero neque in aspernatur alias perferendis qui corrupti. Saepe totam accusamus aliquid est impedit ipsam quos autem fugiat. Dolores omnis maxime.',\n",
       "  'employmentType': 1,\n",
       "  'employmentTypeStr': 'Full-time',\n",
       "  'fromToStr': 'Apr 2012 - Dec 2012'}]"
      ]
     },
     "execution_count": 12,
     "metadata": {},
     "output_type": "execute_result"
    }
   ],
   "source": [
    "df.loc[0]['user.experiences']"
   ]
  },
  {
   "cell_type": "code",
   "execution_count": 13,
   "metadata": {},
   "outputs": [
    {
     "data": {
      "text/plain": [
       "[{'id': 378,\n",
       "  'school': 'Texas A&M University',\n",
       "  'degree': \"Bachelor's\",\n",
       "  'field': 'Computer Science',\n",
       "  'startYear': 2008,\n",
       "  'endYear': 2012},\n",
       " {'id': 379,\n",
       "  'school': 'University Of Groningen',\n",
       "  'degree': 'Master',\n",
       "  'field': 'Physics',\n",
       "  'startYear': 2011,\n",
       "  'endYear': 2014}]"
      ]
     },
     "execution_count": 13,
     "metadata": {},
     "output_type": "execute_result"
    }
   ],
   "source": [
    "df.loc[0]['user.educations']"
   ]
  },
  {
   "cell_type": "code",
   "execution_count": null,
   "metadata": {},
   "outputs": [],
   "source": []
  }
 ],
 "metadata": {
  "kernelspec": {
   "display_name": "Python 3.8.13 ('work')",
   "language": "python",
   "name": "python3"
  },
  "language_info": {
   "codemirror_mode": {
    "name": "ipython",
    "version": 3
   },
   "file_extension": ".py",
   "mimetype": "text/x-python",
   "name": "python",
   "nbconvert_exporter": "python",
   "pygments_lexer": "ipython3",
   "version": "3.8.13"
  },
  "orig_nbformat": 4,
  "vscode": {
   "interpreter": {
    "hash": "11f76c60b6aa3b2511c023616713a2c05b7ed6256e48a6e9bfa94e670c890988"
   }
  }
 },
 "nbformat": 4,
 "nbformat_minor": 2
}
