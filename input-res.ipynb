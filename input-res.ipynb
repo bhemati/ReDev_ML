{
 "cells": [
  {
   "cell_type": "code",
   "execution_count": 1,
   "metadata": {},
   "outputs": [],
   "source": [
    "import pandas as pd\n",
    "import json\n",
    "from datetime import datetime\n",
    "from dateutil.relativedelta import relativedelta\n"
   ]
  },
  {
   "cell_type": "code",
   "execution_count": 2,
   "metadata": {},
   "outputs": [
    {
     "ename": "FileNotFoundError",
     "evalue": "[Errno 2] No such file or directory: 'Upload-Resume/android.json'",
     "output_type": "error",
     "traceback": [
      "\u001b[0;31m---------------------------------------------------------------------------\u001b[0m",
      "\u001b[0;31mFileNotFoundError\u001b[0m                         Traceback (most recent call last)",
      "\u001b[1;32m/home/behrad/Documents/ReDev_ML-main/input-res.ipynb Cell 2\u001b[0m in \u001b[0;36m<cell line: 1>\u001b[0;34m()\u001b[0m\n\u001b[0;32m----> <a href='vscode-notebook-cell:/home/behrad/Documents/ReDev_ML-main/input-res.ipynb#W1sZmlsZQ%3D%3D?line=0'>1</a>\u001b[0m \u001b[39mwith\u001b[39;00m \u001b[39mopen\u001b[39;49m(\u001b[39m\"\u001b[39;49m\u001b[39mUpload-Resume/android.json\u001b[39;49m\u001b[39m\"\u001b[39;49m) \u001b[39mas\u001b[39;00m json_data:\n\u001b[1;32m      <a href='vscode-notebook-cell:/home/behrad/Documents/ReDev_ML-main/input-res.ipynb#W1sZmlsZQ%3D%3D?line=1'>2</a>\u001b[0m     data \u001b[39m=\u001b[39m json\u001b[39m.\u001b[39mload(json_data)\n\u001b[1;32m      <a href='vscode-notebook-cell:/home/behrad/Documents/ReDev_ML-main/input-res.ipynb#W1sZmlsZQ%3D%3D?line=2'>3</a>\u001b[0m df \u001b[39m=\u001b[39m pd\u001b[39m.\u001b[39mjson_normalize(data)\n",
      "\u001b[0;31mFileNotFoundError\u001b[0m: [Errno 2] No such file or directory: 'Upload-Resume/android.json'"
     ]
    }
   ],
   "source": [
    "with open(\"Upload-Resume/android.json\") as json_data:\n",
    "    data = json.load(json_data)\n",
    "df = pd.json_normalize(data)"
   ]
  },
  {
   "cell_type": "code",
   "execution_count": null,
   "metadata": {},
   "outputs": [
    {
     "data": {
      "text/html": [
       "<div>\n",
       "<style scoped>\n",
       "    .dataframe tbody tr th:only-of-type {\n",
       "        vertical-align: middle;\n",
       "    }\n",
       "\n",
       "    .dataframe tbody tr th {\n",
       "        vertical-align: top;\n",
       "    }\n",
       "\n",
       "    .dataframe thead th {\n",
       "        text-align: right;\n",
       "    }\n",
       "</style>\n",
       "<table border=\"1\" class=\"dataframe\">\n",
       "  <thead>\n",
       "    <tr style=\"text-align: right;\">\n",
       "      <th></th>\n",
       "      <th>PhoneNo</th>\n",
       "      <th>Email</th>\n",
       "      <th>Work</th>\n",
       "      <th>string</th>\n",
       "      <th>skills</th>\n",
       "      <th>languages</th>\n",
       "    </tr>\n",
       "  </thead>\n",
       "  <tbody>\n",
       "    <tr>\n",
       "      <th>0</th>\n",
       "      <td></td>\n",
       "      <td>goudarzi1212@gmail.com</td>\n",
       "      <td>[{'company': 'Pardazesh Negar Rashin', 'positi...</td>\n",
       "      <td>Hello World</td>\n",
       "      <td>[Android, Kotlin, Flutter, Android Development...</td>\n",
       "      <td>[English, Farsi]</td>\n",
       "    </tr>\n",
       "  </tbody>\n",
       "</table>\n",
       "</div>"
      ],
      "text/plain": [
       "  PhoneNo                   Email  \\\n",
       "0          goudarzi1212@gmail.com   \n",
       "\n",
       "                                                Work       string  \\\n",
       "0  [{'company': 'Pardazesh Negar Rashin', 'positi...  Hello World   \n",
       "\n",
       "                                              skills         languages  \n",
       "0  [Android, Kotlin, Flutter, Android Development...  [English, Farsi]  "
      ]
     },
     "execution_count": 3,
     "metadata": {},
     "output_type": "execute_result"
    }
   ],
   "source": [
    "df"
   ]
  },
  {
   "cell_type": "code",
   "execution_count": null,
   "metadata": {},
   "outputs": [
    {
     "name": "stdout",
     "output_type": "stream",
     "text": [
      "0    [{'company': 'Pardazesh Negar Rashin', 'positi...\n"
     ]
    }
   ],
   "source": [
    "print(df.Work.to_string())"
   ]
  },
  {
   "cell_type": "code",
   "execution_count": null,
   "metadata": {},
   "outputs": [],
   "source": [
    "data_set = pd.read_excel(\"Upload-JD/JD_Updated.xlsx\")"
   ]
  },
  {
   "cell_type": "code",
   "execution_count": 2,
   "metadata": {},
   "outputs": [
    {
     "name": "stdout",
     "output_type": "stream",
     "text": [
      "0  This is json json_data.json\n",
      "================================\n",
      "     jd        filename  skillRank  name         phoneNo  \\\n",
      "0  1.89  applicant.json        0.0   0.0  1-601-620-6580   \n",
      "\n",
      "                    email  nonTechSkills  exp  finalRank  \n",
      "0  Rowland_Jast@yahoo.com            0.0    0       1.89  \n",
      "1  This is json Upload-JD/job.json\n",
      "================================\n",
      "   id                              title  \\\n",
      "0   2  Senior Mobile App Developer - iOS   \n",
      "\n",
      "                                         description  \\\n",
      "0  We believe our customers deserve a great exper...   \n",
      "\n",
      "                                    responsibilities  \\\n",
      "0  As a Senior Mobile App Developer-iOS at Parsit...   \n",
      "\n",
      "                                        requirements benefits employment  \\\n",
      "0  You have solid commercial experience in native...     None  Full-time   \n",
      "\n",
      "  environment experience  salaryMin  ...  \\\n",
      "0      Remote     Senior       2000  ...   \n",
      "\n",
      "                                       company.about      company.industry  \\\n",
      "0  Experts in web technologies, mobile technologi...  Software Development   \n",
      "\n",
      "  company.companySize company.city.id company.city.name  \\\n",
      "0               11-50         2761369            Vienna   \n",
      "\n",
      "  company.city.subCountry  company.city.countryCode  company.city.countryName  \\\n",
      "0                  Vienna                        AT                   Austria   \n",
      "\n",
      "  company.companySizeIndex  company.subscription  \n",
      "0                        2                  None  \n",
      "\n",
      "[1 rows x 49 columns]\n",
      "2  This is json Upload-Resume/applicant.json\n",
      "================================\n",
      "     id  jobId  userId                          email phoneCountryCode  \\\n",
      "0   104      1     124          Jenifer72@hotmail.com               43   \n",
      "1   103      1     183             Karlee99@yahoo.com               43   \n",
      "2   102      1      71    Matilda_Dibbert89@gmail.com               43   \n",
      "3   101      1     188       Beau.Carroll@hotmail.com               43   \n",
      "4   100      1     149                Lon69@gmail.com               43   \n",
      "5    99      1      61     Trudie.Swift11@hotmail.com               43   \n",
      "6    98      1     107          Eulalia15@hotmail.com               43   \n",
      "7    97      1     144  Francisca.Hackett57@yahoo.com               43   \n",
      "8    96      1       9                emma@domain.com               43   \n",
      "9    95      1     115     Johnpaul.Pfeffer@gmail.com               43   \n",
      "10   94      1     151      Damaris.Kuhic24@gmail.com               43   \n",
      "11   93      1     180              Jalyn98@yahoo.com               43   \n",
      "12   92      1     111     Carmella.Nicolas@yahoo.com               43   \n",
      "13   91      1      85       Colin_Hudson53@yahoo.com               43   \n",
      "14   90      1     143      Krystal.Frami@hotmail.com               43   \n",
      "15   89      1     130    Orval.Schmitt78@hotmail.com               43   \n",
      "16   88      1     142           Elias.Dach@gmail.com               43   \n",
      "17   87      1       6               lucas@domain.com               43   \n",
      "18   86      1     199        Lia_Fahey94@hotmail.com               43   \n",
      "19   11      1       7                 ava@domain.com               43   \n",
      "20   10      1      12           charlotte@domain.com               43   \n",
      "21    9      1      13              oliver@domain.com               43   \n",
      "22    8      1       9                emma@domain.com               43   \n",
      "23    7      1      11              olivia@domain.com               43   \n",
      "24    6      1       6               lucas@domain.com               43   \n",
      "25    5      1       4             william@domain.com               43   \n",
      "26    4      1       3              amelia@domain.com               43   \n",
      "27    3      1      10            benjamin@domain.com               43   \n",
      "28    2      1      14              elijah@domain.com               43   \n",
      "29    1      1       8               james@domain.com               43   \n",
      "\n",
      "              phoneNumber                                    qa  \\\n",
      "0            252.215.3962  [{'answer': 'Yes', 'questionId': 1}]   \n",
      "1          (336) 479-1867   [{'answer': 'No', 'questionId': 1}]   \n",
      "2     1-685-232-1937 x719   [{'answer': 'No', 'questionId': 1}]   \n",
      "3            805.899.6584  [{'answer': 'Yes', 'questionId': 1}]   \n",
      "4    (399) 976-6466 x3370   [{'answer': 'No', 'questionId': 1}]   \n",
      "5   (743) 667-5994 x94031   [{'answer': 'No', 'questionId': 1}]   \n",
      "6   1-268-372-2435 x93169   [{'answer': 'No', 'questionId': 1}]   \n",
      "7            659.272.2293  [{'answer': 'Yes', 'questionId': 1}]   \n",
      "8       847.816.8787 x115   [{'answer': 'No', 'questionId': 1}]   \n",
      "9   1-214-214-4417 x43789   [{'answer': 'No', 'questionId': 1}]   \n",
      "10         (722) 991-5339  [{'answer': 'Yes', 'questionId': 1}]   \n",
      "11           463-898-2118   [{'answer': 'No', 'questionId': 1}]   \n",
      "12  1-351-386-8916 x13807  [{'answer': 'Yes', 'questionId': 1}]   \n",
      "13   (754) 359-3643 x5279  [{'answer': 'Yes', 'questionId': 1}]   \n",
      "14         1-838-611-4701  [{'answer': 'Yes', 'questionId': 1}]   \n",
      "15     549-849-2776 x7851  [{'answer': 'Yes', 'questionId': 1}]   \n",
      "16   1-231-383-2479 x9013  [{'answer': 'Yes', 'questionId': 1}]   \n",
      "17           802-607-0286   [{'answer': 'No', 'questionId': 1}]   \n",
      "18         1-383-409-1663  [{'answer': 'Yes', 'questionId': 1}]   \n",
      "19             1234042304   [{'answer': 'No', 'questionId': 1}]   \n",
      "20             1233136594   [{'answer': 'No', 'questionId': 1}]   \n",
      "21             1234040498  [{'answer': 'Yes', 'questionId': 1}]   \n",
      "22             1236960755   [{'answer': 'No', 'questionId': 1}]   \n",
      "23             1231038441   [{'answer': 'No', 'questionId': 1}]   \n",
      "24             1235141822   [{'answer': 'No', 'questionId': 1}]   \n",
      "25             1235417847  [{'answer': 'Yes', 'questionId': 1}]   \n",
      "26             1231000557  [{'answer': 'Yes', 'questionId': 1}]   \n",
      "27             1239500535   [{'answer': 'No', 'questionId': 1}]   \n",
      "28             1233059064   [{'answer': 'No', 'questionId': 1}]   \n",
      "29             1236233652   [{'answer': 'No', 'questionId': 1}]   \n",
      "\n",
      "                        createdAt                      updatedAt  rank  ...  \\\n",
      "0   2022-10-01T23:30:04.000+02:00  2022-10-01T23:30:04.000+02:00  None  ...   \n",
      "1   2022-10-01T23:30:04.000+02:00  2022-10-01T23:30:04.000+02:00  None  ...   \n",
      "2   2022-10-01T23:30:04.000+02:00  2022-10-01T23:30:04.000+02:00  None  ...   \n",
      "3   2022-10-01T23:30:04.000+02:00  2022-10-01T23:30:04.000+02:00  None  ...   \n",
      "4   2022-10-01T23:30:04.000+02:00  2022-10-01T23:30:04.000+02:00  None  ...   \n",
      "5   2022-10-01T23:30:04.000+02:00  2022-10-01T23:30:04.000+02:00  None  ...   \n",
      "6   2022-10-01T23:30:04.000+02:00  2022-10-01T23:30:04.000+02:00  None  ...   \n",
      "7   2022-10-01T23:30:04.000+02:00  2022-10-01T23:30:04.000+02:00  None  ...   \n",
      "8   2022-10-01T23:30:04.000+02:00  2022-10-01T23:30:04.000+02:00  None  ...   \n",
      "9   2022-10-01T23:30:04.000+02:00  2022-10-01T23:30:04.000+02:00  None  ...   \n",
      "10  2022-10-01T23:30:04.000+02:00  2022-10-01T23:30:04.000+02:00  None  ...   \n",
      "11  2022-10-01T23:30:04.000+02:00  2022-10-01T23:30:04.000+02:00  None  ...   \n",
      "12  2022-10-01T23:30:04.000+02:00  2022-10-01T23:30:04.000+02:00  None  ...   \n",
      "13  2022-10-01T23:30:04.000+02:00  2022-10-01T23:30:04.000+02:00  None  ...   \n",
      "14  2022-10-01T23:30:04.000+02:00  2022-10-01T23:30:04.000+02:00  None  ...   \n",
      "15  2022-10-01T23:30:04.000+02:00  2022-10-01T23:30:04.000+02:00  None  ...   \n",
      "16  2022-10-01T23:30:04.000+02:00  2022-10-01T23:30:04.000+02:00  None  ...   \n",
      "17  2022-10-01T23:30:04.000+02:00  2022-10-01T23:30:04.000+02:00  None  ...   \n",
      "18  2022-10-01T23:30:04.000+02:00  2022-10-01T23:30:04.000+02:00  None  ...   \n",
      "19  2022-10-01T23:28:27.000+02:00  2022-10-01T23:28:27.000+02:00  None  ...   \n",
      "20  2022-10-01T23:28:27.000+02:00  2022-10-01T23:28:27.000+02:00  None  ...   \n",
      "21  2022-10-01T23:28:27.000+02:00  2022-10-01T23:28:27.000+02:00  None  ...   \n",
      "22  2022-10-01T23:28:27.000+02:00  2022-10-01T23:28:27.000+02:00  None  ...   \n",
      "23  2022-10-01T23:28:27.000+02:00  2022-10-01T23:28:27.000+02:00  None  ...   \n",
      "24  2022-10-01T23:28:27.000+02:00  2022-10-01T23:28:27.000+02:00  None  ...   \n",
      "25  2022-10-01T23:28:27.000+02:00  2022-10-01T23:28:27.000+02:00  None  ...   \n",
      "26  2022-10-01T23:28:27.000+02:00  2022-10-01T23:28:27.000+02:00  None  ...   \n",
      "27  2022-10-01T23:28:27.000+02:00  2022-10-01T23:28:27.000+02:00  None  ...   \n",
      "28  2022-10-01T23:28:27.000+02:00  2022-10-01T23:28:27.000+02:00  None  ...   \n",
      "29  2022-10-01T23:28:27.000+02:00  2022-10-01T23:28:27.000+02:00  None  ...   \n",
      "\n",
      "                            job.tags job.salaryStr  job.assessmentId  \\\n",
      "0   [Full-time, On-site, Mid-Senior]     ~3300€/mo              None   \n",
      "1   [Full-time, On-site, Mid-Senior]     ~3300€/mo              None   \n",
      "2   [Full-time, On-site, Mid-Senior]     ~3300€/mo              None   \n",
      "3   [Full-time, On-site, Mid-Senior]     ~3300€/mo              None   \n",
      "4   [Full-time, On-site, Mid-Senior]     ~3300€/mo              None   \n",
      "5   [Full-time, On-site, Mid-Senior]     ~3300€/mo              None   \n",
      "6   [Full-time, On-site, Mid-Senior]     ~3300€/mo              None   \n",
      "7   [Full-time, On-site, Mid-Senior]     ~3300€/mo              None   \n",
      "8   [Full-time, On-site, Mid-Senior]     ~3300€/mo              None   \n",
      "9   [Full-time, On-site, Mid-Senior]     ~3300€/mo              None   \n",
      "10  [Full-time, On-site, Mid-Senior]     ~3300€/mo              None   \n",
      "11  [Full-time, On-site, Mid-Senior]     ~3300€/mo              None   \n",
      "12  [Full-time, On-site, Mid-Senior]     ~3300€/mo              None   \n",
      "13  [Full-time, On-site, Mid-Senior]     ~3300€/mo              None   \n",
      "14  [Full-time, On-site, Mid-Senior]     ~3300€/mo              None   \n",
      "15  [Full-time, On-site, Mid-Senior]     ~3300€/mo              None   \n",
      "16  [Full-time, On-site, Mid-Senior]     ~3300€/mo              None   \n",
      "17  [Full-time, On-site, Mid-Senior]     ~3300€/mo              None   \n",
      "18  [Full-time, On-site, Mid-Senior]     ~3300€/mo              None   \n",
      "19  [Full-time, On-site, Mid-Senior]     ~3300€/mo              None   \n",
      "20  [Full-time, On-site, Mid-Senior]     ~3300€/mo              None   \n",
      "21  [Full-time, On-site, Mid-Senior]     ~3300€/mo              None   \n",
      "22  [Full-time, On-site, Mid-Senior]     ~3300€/mo              None   \n",
      "23  [Full-time, On-site, Mid-Senior]     ~3300€/mo              None   \n",
      "24  [Full-time, On-site, Mid-Senior]     ~3300€/mo              None   \n",
      "25  [Full-time, On-site, Mid-Senior]     ~3300€/mo              None   \n",
      "26  [Full-time, On-site, Mid-Senior]     ~3300€/mo              None   \n",
      "27  [Full-time, On-site, Mid-Senior]     ~3300€/mo              None   \n",
      "28  [Full-time, On-site, Mid-Senior]     ~3300€/mo              None   \n",
      "29  [Full-time, On-site, Mid-Senior]     ~3300€/mo              None   \n",
      "\n",
      "    job.$extras.savedBy_count job.$extras.applicants_count  \\\n",
      "0                          13                           30   \n",
      "1                          13                           30   \n",
      "2                          13                           30   \n",
      "3                          13                           30   \n",
      "4                          13                           30   \n",
      "5                          13                           30   \n",
      "6                          13                           30   \n",
      "7                          13                           30   \n",
      "8                          13                           30   \n",
      "9                          13                           30   \n",
      "10                         13                           30   \n",
      "11                         13                           30   \n",
      "12                         13                           30   \n",
      "13                         13                           30   \n",
      "14                         13                           30   \n",
      "15                         13                           30   \n",
      "16                         13                           30   \n",
      "17                         13                           30   \n",
      "18                         13                           30   \n",
      "19                         13                           30   \n",
      "20                         13                           30   \n",
      "21                         13                           30   \n",
      "22                         13                           30   \n",
      "23                         13                           30   \n",
      "24                         13                           30   \n",
      "25                         13                           30   \n",
      "26                         13                           30   \n",
      "27                         13                           30   \n",
      "28                         13                           30   \n",
      "29                         13                           30   \n",
      "\n",
      "   job.$extras.assessments_count job.sectionId job.roleId  \\\n",
      "0                              1             1         37   \n",
      "1                              1             1         37   \n",
      "2                              1             1         37   \n",
      "3                              1             1         37   \n",
      "4                              1             1         37   \n",
      "5                              1             1         37   \n",
      "6                              1             1         37   \n",
      "7                              1             1         37   \n",
      "8                              1             1         37   \n",
      "9                              1             1         37   \n",
      "10                             1             1         37   \n",
      "11                             1             1         37   \n",
      "12                             1             1         37   \n",
      "13                             1             1         37   \n",
      "14                             1             1         37   \n",
      "15                             1             1         37   \n",
      "16                             1             1         37   \n",
      "17                             1             1         37   \n",
      "18                             1             1         37   \n",
      "19                             1             1         37   \n",
      "20                             1             1         37   \n",
      "21                             1             1         37   \n",
      "22                             1             1         37   \n",
      "23                             1             1         37   \n",
      "24                             1             1         37   \n",
      "25                             1             1         37   \n",
      "26                             1             1         37   \n",
      "27                             1             1         37   \n",
      "28                             1             1         37   \n",
      "29                             1             1         37   \n",
      "\n",
      "                job.roleStr          job.sectionStr  \n",
      "0   Computer data scientist  Information Technology  \n",
      "1   Computer data scientist  Information Technology  \n",
      "2   Computer data scientist  Information Technology  \n",
      "3   Computer data scientist  Information Technology  \n",
      "4   Computer data scientist  Information Technology  \n",
      "5   Computer data scientist  Information Technology  \n",
      "6   Computer data scientist  Information Technology  \n",
      "7   Computer data scientist  Information Technology  \n",
      "8   Computer data scientist  Information Technology  \n",
      "9   Computer data scientist  Information Technology  \n",
      "10  Computer data scientist  Information Technology  \n",
      "11  Computer data scientist  Information Technology  \n",
      "12  Computer data scientist  Information Technology  \n",
      "13  Computer data scientist  Information Technology  \n",
      "14  Computer data scientist  Information Technology  \n",
      "15  Computer data scientist  Information Technology  \n",
      "16  Computer data scientist  Information Technology  \n",
      "17  Computer data scientist  Information Technology  \n",
      "18  Computer data scientist  Information Technology  \n",
      "19  Computer data scientist  Information Technology  \n",
      "20  Computer data scientist  Information Technology  \n",
      "21  Computer data scientist  Information Technology  \n",
      "22  Computer data scientist  Information Technology  \n",
      "23  Computer data scientist  Information Technology  \n",
      "24  Computer data scientist  Information Technology  \n",
      "25  Computer data scientist  Information Technology  \n",
      "26  Computer data scientist  Information Technology  \n",
      "27  Computer data scientist  Information Technology  \n",
      "28  Computer data scientist  Information Technology  \n",
      "29  Computer data scientist  Information Technology  \n",
      "\n",
      "[30 rows x 98 columns]\n",
      "===================\n"
     ]
    },
    {
     "data": {
      "text/plain": [
       "['json_data.json', 'Upload-JD/job.json', 'Upload-Resume/applicant.json']"
      ]
     },
     "execution_count": 2,
     "metadata": {},
     "output_type": "execute_result"
    }
   ],
   "source": [
    "import glob\n",
    "import os\n",
    "LIST_OF_FILES = []\n",
    "LIST_OF_FILES_JSON = []\n",
    "for file in glob.glob('**/*.json', recursive=True):\n",
    "    LIST_OF_FILES_JSON.append(file)\n",
    "LIST_OF_FILES = LIST_OF_FILES_JSON\n",
    "Jresumes = []\n",
    "Ordered_list_Resume = []\n",
    "for count,i in enumerate(LIST_OF_FILES):\n",
    "    Temp = i.rsplit('.', 1)\n",
    "    if Temp[1] == \"json\" :\n",
    "            print(count,\" This is json\" , i)\n",
    "            try:\n",
    "                with open(i) as json_data:\n",
    "                    data = json.load(json_data)\n",
    "                df = pd.json_normalize(data)\n",
    "                print(\"================================\")\n",
    "                print(df)\n",
    "                Jresumes.append(df)\n",
    "                Ordered_list_Resume.append(i)\n",
    "            except Exception as e: print(e)     \n",
    "print(\"===================\")\n",
    "LIST_OF_FILES_JSON"
   ]
  },
  {
   "cell_type": "code",
   "execution_count": 3,
   "metadata": {},
   "outputs": [],
   "source": [
    "with open(\"Upload-Resume/applicant.json\") as json_data:\n",
    "    data = json.load(json_data)\n",
    "df = pd.json_normalize(data)"
   ]
  },
  {
   "cell_type": "code",
   "execution_count": 14,
   "metadata": {},
   "outputs": [
    {
     "data": {
      "text/plain": [
       "{'id': 104,\n",
       " 'jobId': 1,\n",
       " 'userId': 124,\n",
       " 'email': 'Jenifer72@hotmail.com',\n",
       " 'phoneCountryCode': '43',\n",
       " 'phoneNumber': '252.215.3962',\n",
       " 'qa': [{'answer': 'Yes', 'questionId': 1}],\n",
       " 'createdAt': '2022-10-01T23:30:04.000+02:00',\n",
       " 'updatedAt': '2022-10-01T23:30:04.000+02:00',\n",
       " 'rank': None,\n",
       " 'user': {'id': 124,\n",
       "  'email': 'Jenifer72@hotmail.com',\n",
       "  'username': 'Samantha27',\n",
       "  'firstName': 'Samantha',\n",
       "  'lastName': 'Kuhn',\n",
       "  'avatarUrl': 'https://cloudflare-ipfs.com/ipfs/Qmd3W5DuhgHirLHGVixi6V76LhCkZUz6pnFt5AJBiyvHye/avatar/104.jpg',\n",
       "  'headline': 'International Group Manager @ Lang, Schowalter and MacGyver',\n",
       "  'profileBio': 'Et beatae tempora blanditiis quia voluptatum et aspernatur earum optio. Labore autem tempora nesciunt vitae velit provident quam quas ipsam. Perspiciatis et dolorem et rerum et non facere ad sint. Id enim voluptatibus eum commodi ad quibusdam atque dolores.',\n",
       "  'website': 'https://impressionable-myth.name',\n",
       "  'isVerifiedByEmail': False,\n",
       "  'loginVia': None,\n",
       "  'userType': 0,\n",
       "  'jobSeekingType': 0,\n",
       "  'skills': [{'id': 9, 'title': 'Angular JS'},\n",
       "   {'id': 77, 'title': 'Analytical skills'},\n",
       "   {'id': 209, 'title': 'UI Toolkits and Frameworks'},\n",
       "   {'id': 320, 'title': 'Budgeting'}],\n",
       "  'interests': [{'id': 3,\n",
       "    'title': 'Resume Tips',\n",
       "    'imageUrl': 'http://185.110.191.137:3333/drive/assets/topics/Resume-Tips.jpg'},\n",
       "   {'id': 11,\n",
       "    'title': 'Accountant',\n",
       "    'imageUrl': 'http://185.110.191.137:3333/drive/assets/topics/Accountant.jpg'},\n",
       "   {'id': 18,\n",
       "    'title': 'Programming',\n",
       "    'imageUrl': 'http://185.110.191.137:3333/drive/assets/topics/Programming.jpg'}],\n",
       "  'experiences': [{'id': 316,\n",
       "    'title': 'Investor Tactics Liaison',\n",
       "    'companyName': 'Bartoletti - Larkin',\n",
       "    'location': 'West Sacramento, AL',\n",
       "    'startAt': '2012-03-03',\n",
       "    'endAt': None,\n",
       "    'headline': None,\n",
       "    'description': 'Qui et eveniet recusandae quis magni sint ullam. Suscipit blanditiis vel sit quisquam distinctio ad et quam. Hic magnam voluptatibus id veritatis et ut assumenda. Sint inventore totam autem exercitationem ratione. Ut iste reprehenderit. Velit excepturi dolores sed.\\nEum quia sit pariatur dolor quo ullam id cupiditate. Quia repellat ex aperiam earum ut voluptas commodi. Id aut sunt unde. Natus incidunt quam magnam necessitatibus. Iure impedit consectetur ut illo.',\n",
       "    'employmentType': 2,\n",
       "    'employmentTypeStr': 'Part-time',\n",
       "    'fromToStr': 'Mar 2012 - Present'},\n",
       "   {'id': 317,\n",
       "    'title': 'Internal Creative Producer',\n",
       "    'companyName': 'Gislason, Raynor and Veum',\n",
       "    'location': 'Blue Springs, MS',\n",
       "    'startAt': '2012-02-08',\n",
       "    'endAt': None,\n",
       "    'headline': None,\n",
       "    'description': 'Magnam unde sit rerum aliquam. Aliquid vitae qui eius accusamus officia vero deserunt nemo. Quia dolorem distinctio expedita dolores quis. Sunt quasi enim. Eos quia corporis est recusandae omnis et et amet laborum.\\nQuae repellat molestiae enim. Et sed doloremque ut nulla quis. Dolor asperiores soluta dolor. Hic voluptate enim aut quibusdam temporibus eaque rerum quos eligendi.\\nEum soluta maiores. Itaque voluptas id. Dicta voluptatem autem. Quisquam incidunt ut delectus et totam officiis.',\n",
       "    'employmentType': 2,\n",
       "    'employmentTypeStr': 'Part-time',\n",
       "    'fromToStr': 'Feb 2012 - Present'},\n",
       "   {'id': 318,\n",
       "    'title': 'Direct Optimization Associate',\n",
       "    'companyName': 'Nader, Huel and Rath',\n",
       "    'location': 'Meridian, MD',\n",
       "    'startAt': '2012-10-08',\n",
       "    'endAt': '2013-12-08',\n",
       "    'headline': None,\n",
       "    'description': 'Qui vel eum provident commodi quas esse non id molestias. Dolore dignissimos ducimus culpa et consequatur. Ad quod dolorum enim. Accusantium rem dolor provident reiciendis est occaecati repudiandae sit est. Quidem quia suscipit ex voluptas rerum et ratione fuga sapiente.',\n",
       "    'employmentType': 2,\n",
       "    'employmentTypeStr': 'Part-time',\n",
       "    'fromToStr': 'Oct 2012 - Dec 2013'},\n",
       "   {'id': 319,\n",
       "    'title': 'International Brand Engineer',\n",
       "    'companyName': 'Baumbach, Tillman and Trantow',\n",
       "    'location': 'Baldwin Park, NY',\n",
       "    'startAt': '2012-07-14',\n",
       "    'endAt': None,\n",
       "    'headline': None,\n",
       "    'description': 'Aperiam aliquam perferendis sapiente. Nulla dolorum delectus aliquid ex aliquam deserunt nemo qui. Id dolor corrupti autem. Quod voluptate harum omnis sed ut.\\nPerspiciatis illum odio sit earum quaerat qui quia fuga. Maiores quis nihil sit natus aliquam a. Voluptatum et quam nesciunt architecto repellendus consequuntur. Ratione laboriosam mollitia tenetur aspernatur aut. Adipisci voluptatem dolores tenetur natus nostrum dolor et officia quos. Repudiandae aut repellendus.',\n",
       "    'employmentType': 1,\n",
       "    'employmentTypeStr': 'Full-time',\n",
       "    'fromToStr': 'Jul 2012 - Present'},\n",
       "   {'id': 320,\n",
       "    'title': 'District Intranet Producer',\n",
       "    'companyName': 'Nicolas Inc',\n",
       "    'location': 'Santa Monica, NM',\n",
       "    'startAt': '2012-09-23',\n",
       "    'endAt': '2014-09-23',\n",
       "    'headline': None,\n",
       "    'description': 'Laboriosam dolorem perferendis dolor quo. Occaecati et neque aspernatur. Non iure ea error.\\nEst ullam deleniti et atque nesciunt. Laudantium ut nesciunt repellendus rerum suscipit voluptates. At ut modi sit suscipit id sint consequatur facilis voluptatibus. Suscipit sunt maiores aut similique nam vitae ea et voluptate. Sed aliquam voluptates et aliquid dolore.',\n",
       "    'employmentType': 1,\n",
       "    'employmentTypeStr': 'Full-time',\n",
       "    'fromToStr': 'Sep 2012 - Sep 2014'}],\n",
       "  'educations': [{'id': 196,\n",
       "    'school': 'University of Sussex',\n",
       "    'degree': \"Bachelor's\",\n",
       "    'field': 'Software Engineering',\n",
       "    'startYear': 2008,\n",
       "    'endYear': 2012},\n",
       "   {'id': 197,\n",
       "    'school': 'University of Sussex',\n",
       "    'degree': 'Master',\n",
       "    'field': 'Computer Science',\n",
       "    'startYear': 2010,\n",
       "    'endYear': 2013}],\n",
       "  'languages': [{'id': 199,\n",
       "    'name': 'English',\n",
       "    'level': 2,\n",
       "    'levelStr': 'Intermediate'},\n",
       "   {'id': 200, 'name': 'German', 'level': 4, 'levelStr': 'Native'},\n",
       "   {'id': 201, 'name': 'French', 'level': 1, 'levelStr': 'Beginner'}],\n",
       "  'fullName': 'Samantha Kuhn',\n",
       "  'profileCompleted': False,\n",
       "  'following': False,\n",
       "  'blocked': False,\n",
       "  'restricted': False,\n",
       "  'subscription': None,\n",
       "  'totalExpInYears': 10,\n",
       "  '$extras': {'skills_count': 4,\n",
       "   'interests_count': 3,\n",
       "   'followers_count': 103,\n",
       "   'posts_count': 0}},\n",
       " 'job': {'id': 1,\n",
       "  'title': 'Mobile App Developer',\n",
       "  'description': 'We are urgently looking for a Senior Application Developer (m/f) in the .Net area. This is a REMOTE direct hire for one of our clients based in San Antonio, TX.',\n",
       "  'responsibilities': 'Building systems as an interface to customers.\\nAutomate processes to improve efficiency.\\nDevelopment of tools to eliminate repetitive tasks.\\nParticipation in self-organized teams working towards a common goal.\\nResponds to issues as they arise and works with the Systems Assurance Group to improve monitoring.\\nWorks with business partners to understand requirements and goals.\\nCreates wireframes and mockups for proposed designs.\\nConducts peer reviews to ensure development and security standards are enforced.\\nLeads and supervises the younger and middle developers in the team.\\nCompletes all other tasks assigned to him.',\n",
       "  'requirements': \"Bachelor's degree from an accredited college or four-year university or equivalent experience required.\\nA minimum of five (5) years of experience required, including demonstrated knowledge of OOP and SOLID principles and design patterns; in-depth knowledge of C#, HTML, JavaScript, XML and JSON; Creation and maintenance of relational data models and databases; Troubleshooting advanced SQL performance issues and writing/setting advanced SQL queries.\\nC# skills and good knowledge of various programming languages \\u200b\\u200bincluding Java, ASP.NET, JavaScript/JQuery, TSQL, HTML/CSS, etc.\\nKnowledge of relational data models.\\nKnowledge of agile principles with experience in Scrum or Kanban.\\nKnowledge of team development tools and supply control i.e. Visual Studio, TFS, CVS, JIRA, GIT etc.\\nKnowledge of one or more JavaScript frameworks including Angular, Angular2, Vue.js, Knockout, React, Polymer, etc.\\nDemonstrated willingness and ability to adapt and learn new technologies/procedures.\\nGood knowledge of Microsoft Office, including Outlook, Word and Excel.\\nExcellent verbal and written communication skills.\\nEfficient presentation and clear communication of software and technical concepts to the development team.\\nAbility to participate in operational support and on-call duty.\\nAbility to keep up to date with the latest testing methods and technologies to produce high quality software.\\nAbility to create and maintain databases, including SQL Server or Oracle databases.\\nAbility to assist with advanced SQL performance issues and write/tune advanced SQL queries.\\nAbility to recognize and apply OOP and SOLID principles and design patterns.\\n\\n\\nQualifications:\\nExperience Level: Experienced\\nAt least 5 years experience\\nEducation: Bachelor's degree\\n \\n\\nKnowledge:\\nC#\\nHTML\\nJavascript\\nOOP\\n.NET\\nSQL Queries\\ndesign pattern\\n\\n\\nExciting growth opportunities. Join Parsition now!\",\n",
       "  'benefits': None,\n",
       "  'employment': 'Full-time',\n",
       "  'environment': 'On-site',\n",
       "  'experience': 'Mid-Senior',\n",
       "  'salaryMin': 2600,\n",
       "  'salaryMax': 3300,\n",
       "  'salaryCurrency': 'EUR',\n",
       "  'statusIndex': 2,\n",
       "  'applyDeadline': '2022-11-30T01:00:00.000+01:00',\n",
       "  'createdAt': '2022-10-01T23:28:27.000+02:00',\n",
       "  'updatedAt': '2022-10-01T23:28:27.000+02:00',\n",
       "  'cityId': 2761369,\n",
       "  'companyId': 1,\n",
       "  'company': {'id': 1,\n",
       "   'name': 'Parsition GmbH',\n",
       "   'logoUrl': 'https://media-exp1.licdn.com/dms/image/C4E0BAQGEBAp6eOJUWg/company-logo_200_200/0/1634548998041?e=1669248000&v=beta&t=Qf3roc88SteBraewo4lHFCtwtTWeE2EE4SEShk-mW1w',\n",
       "   'coverUrl': 'https://media-exp1.licdn.com/dms/image/C4E1BAQHb21u0VMZimA/company-background_10000/0/1634548838202?e=1661878800&v=beta&t=ezC25aGYNxw5-qt0ffwNkfLshvjSzqkR7NMYqzA8ZEM',\n",
       "   'countryCode': 'AT',\n",
       "   'cityId': 2761369,\n",
       "   'about': \"Experts in web technologies, mobile technologies and digital marketing, we offer end-to-end solutions so you don't have to hire multiple companies to make your project happen.\",\n",
       "   'industry': 'Software Development',\n",
       "   'companySize': '11-50',\n",
       "   'city': {'id': 2761369,\n",
       "    'name': 'Vienna',\n",
       "    'subCountry': 'Vienna',\n",
       "    'countryCode': 'AT',\n",
       "    'countryName': 'Austria'},\n",
       "   'companySizeIndex': 2,\n",
       "   'subscription': None},\n",
       "  'roles': [{'id': 37, 'title': 'Computer data scientist'},\n",
       "   {'id': 118, 'title': 'Network administrator'},\n",
       "   {'id': 163, 'title': 'Technology manager'},\n",
       "   {'id': 169, 'title': 'UX/UI researcher'}],\n",
       "  'city': {'id': 2761369,\n",
       "   'name': 'Vienna',\n",
       "   'subCountry': 'Vienna',\n",
       "   'countryCode': 'AT',\n",
       "   'countryName': 'Austria'},\n",
       "  'status': 'InProgress',\n",
       "  'employmentKey': 1,\n",
       "  'environmentKey': 1,\n",
       "  'experienceKey': 3,\n",
       "  'isSaved': False,\n",
       "  'applied': False,\n",
       "  'tags': ['Full-time', 'On-site', 'Mid-Senior'],\n",
       "  'salaryStr': '~3300€/mo',\n",
       "  'assessmentId': None,\n",
       "  '$extras': {'savedBy_count': 13,\n",
       "   'applicants_count': 30,\n",
       "   'assessments_count': 1},\n",
       "  'sectionId': 1,\n",
       "  'roleId': 37,\n",
       "  'roleStr': 'Computer data scientist',\n",
       "  'sectionStr': 'Information Technology'},\n",
       " 'assessmentSession': None,\n",
       " 'assessmentScore': None,\n",
       " 'top': False}"
      ]
     },
     "execution_count": 14,
     "metadata": {},
     "output_type": "execute_result"
    }
   ],
   "source": [
    "data[0]"
   ]
  },
  {
   "cell_type": "code",
   "execution_count": 13,
   "metadata": {},
   "outputs": [
    {
     "name": "stdout",
     "output_type": "stream",
     "text": [
      "124\n",
      "183\n",
      "71\n",
      "188\n",
      "149\n",
      "61\n",
      "107\n",
      "144\n",
      "9\n",
      "115\n",
      "151\n",
      "180\n",
      "111\n",
      "85\n",
      "143\n",
      "130\n",
      "142\n",
      "6\n",
      "199\n",
      "7\n",
      "12\n",
      "13\n",
      "9\n",
      "11\n",
      "6\n",
      "4\n",
      "3\n",
      "10\n",
      "14\n",
      "8\n"
     ]
    }
   ],
   "source": [
    "for applicant in data:\n",
    "    print(applicant['user']['id'])"
   ]
  },
  {
   "cell_type": "code",
   "execution_count": null,
   "metadata": {},
   "outputs": [
    {
     "data": {
      "text/plain": [
       "Index(['id', 'jobId', 'userId', 'email', 'phoneCountryCode', 'phoneNumber',\n",
       "       'qa', 'createdAt', 'updatedAt', 'assessmentScore', 'user.id',\n",
       "       'user.email', 'user.username', 'user.firstName', 'user.lastName',\n",
       "       'user.avatarUrl', 'user.headline', 'user.profileBio', 'user.website',\n",
       "       'user.isVerifiedByEmail', 'user.loginVia', 'user.userType',\n",
       "       'user.jobSeekingType', 'user.interests', 'user.languages',\n",
       "       'user.skills', 'user.educations', 'user.experiences', 'user.fullName',\n",
       "       'user.$extras.skills_count', 'user.$extras.interests_count',\n",
       "       'user.$extras.followers_count', 'user.$extras.posts_count'],\n",
       "      dtype='object')"
      ]
     },
     "execution_count": 7,
     "metadata": {},
     "output_type": "execute_result"
    }
   ],
   "source": [
    "df.columns"
   ]
  },
  {
   "cell_type": "code",
   "execution_count": null,
   "metadata": {},
   "outputs": [
    {
     "data": {
      "text/plain": [
       "'Financial Statement Analysis, Information Retrieval Data Sets, Grand Central Dispatch (GCD), Oracle, Active Learning'"
      ]
     },
     "execution_count": 8,
     "metadata": {},
     "output_type": "execute_result"
    }
   ],
   "source": [
    "\", \".join([x['title'] for x in df.loc[0]['user.skills']])"
   ]
  },
  {
   "cell_type": "code",
   "execution_count": null,
   "metadata": {},
   "outputs": [
    {
     "data": {
      "text/plain": [
       "[{'id': 577,\n",
       "  'title': 'National Mobility Manager',\n",
       "  'companyName': 'Anderson - Heaney',\n",
       "  'location': 'Plainfield, AL',\n",
       "  'startAt': '2012-04-14',\n",
       "  'endAt': '2012-12-14',\n",
       "  'headline': None,\n",
       "  'description': 'Cumque totam tenetur. Vero neque in aspernatur alias perferendis qui corrupti. Saepe totam accusamus aliquid est impedit ipsam quos autem fugiat. Dolores omnis maxime.',\n",
       "  'employmentType': 1,\n",
       "  'employmentTypeStr': 'Full-time',\n",
       "  'fromToStr': 'Apr 2012 - Dec 2012'}]"
      ]
     },
     "execution_count": 21,
     "metadata": {},
     "output_type": "execute_result"
    }
   ],
   "source": [
    "data['user']['experiences']"
   ]
  },
  {
   "cell_type": "code",
   "execution_count": null,
   "metadata": {},
   "outputs": [
    {
     "data": {
      "text/plain": [
       "'2012-04-14'"
      ]
     },
     "execution_count": 17,
     "metadata": {},
     "output_type": "execute_result"
    }
   ],
   "source": [
    "data['user']['experiences'][0]['startAt']"
   ]
  },
  {
   "cell_type": "code",
   "execution_count": null,
   "metadata": {},
   "outputs": [
    {
     "data": {
      "text/plain": [
       "datetime.datetime(2012, 4, 14, 0, 0)"
      ]
     },
     "execution_count": 19,
     "metadata": {},
     "output_type": "execute_result"
    }
   ],
   "source": [
    "datetime.strptime(data['user']['experiences'][0]['startAt'], \"%Y-%m-%d\")"
   ]
  },
  {
   "cell_type": "code",
   "execution_count": null,
   "metadata": {},
   "outputs": [
    {
     "data": {
      "text/plain": [
       "'[{\"id\": 491, \"title\": \"Financial Statement Analysis\"}, {\"id\": 162, \"title\": \"Information Retrieval Data Sets\"}, {\"id\": 103, \"title\": \"Grand Central Dispatch (GCD)\"}, {\"id\": 507, \"title\": \"Oracle\"}, {\"id\": 240, \"title\": \"Active Learning\"}]'"
      ]
     },
     "execution_count": 10,
     "metadata": {},
     "output_type": "execute_result"
    }
   ],
   "source": [
    "json.dumps(df.loc[0]['user.skills'])"
   ]
  },
  {
   "cell_type": "code",
   "execution_count": null,
   "metadata": {},
   "outputs": [
    {
     "data": {
      "text/plain": [
       "[{'name': 'English', 'level': 1, 'levelStr': 'Beginner'},\n",
       " {'name': 'German', 'level': 3, 'levelStr': 'Advanced'},\n",
       " {'name': 'French', 'level': 3, 'levelStr': 'Advanced'}]"
      ]
     },
     "execution_count": 11,
     "metadata": {},
     "output_type": "execute_result"
    }
   ],
   "source": [
    "df.loc[0]['user.languages']"
   ]
  },
  {
   "cell_type": "code",
   "execution_count": null,
   "metadata": {},
   "outputs": [
    {
     "data": {
      "text/plain": [
       "[{'id': 577,\n",
       "  'title': 'National Mobility Manager',\n",
       "  'companyName': 'Anderson - Heaney',\n",
       "  'location': 'Plainfield, AL',\n",
       "  'startAt': '2012-04-14',\n",
       "  'endAt': '2012-12-14',\n",
       "  'headline': None,\n",
       "  'description': 'Cumque totam tenetur. Vero neque in aspernatur alias perferendis qui corrupti. Saepe totam accusamus aliquid est impedit ipsam quos autem fugiat. Dolores omnis maxime.',\n",
       "  'employmentType': 1,\n",
       "  'employmentTypeStr': 'Full-time',\n",
       "  'fromToStr': 'Apr 2012 - Dec 2012'}]"
      ]
     },
     "execution_count": 12,
     "metadata": {},
     "output_type": "execute_result"
    }
   ],
   "source": [
    "df.loc[0]['user.experiences']"
   ]
  },
  {
   "cell_type": "code",
   "execution_count": null,
   "metadata": {},
   "outputs": [
    {
     "data": {
      "text/plain": [
       "[{'id': 378,\n",
       "  'school': 'Texas A&M University',\n",
       "  'degree': \"Bachelor's\",\n",
       "  'field': 'Computer Science',\n",
       "  'startYear': 2008,\n",
       "  'endYear': 2012},\n",
       " {'id': 379,\n",
       "  'school': 'University Of Groningen',\n",
       "  'degree': 'Master',\n",
       "  'field': 'Physics',\n",
       "  'startYear': 2011,\n",
       "  'endYear': 2014}]"
      ]
     },
     "execution_count": 13,
     "metadata": {},
     "output_type": "execute_result"
    }
   ],
   "source": [
    "df.loc[0]['user.educations']"
   ]
  },
  {
   "cell_type": "code",
   "execution_count": null,
   "metadata": {},
   "outputs": [],
   "source": []
  }
 ],
 "metadata": {
  "kernelspec": {
   "display_name": "Python 3.8.13 ('work')",
   "language": "python",
   "name": "python3"
  },
  "language_info": {
   "codemirror_mode": {
    "name": "ipython",
    "version": 3
   },
   "file_extension": ".py",
   "mimetype": "text/x-python",
   "name": "python",
   "nbconvert_exporter": "python",
   "pygments_lexer": "ipython3",
   "version": "3.8.13"
  },
  "orig_nbformat": 4,
  "vscode": {
   "interpreter": {
    "hash": "11f76c60b6aa3b2511c023616713a2c05b7ed6256e48a6e9bfa94e670c890988"
   }
  }
 },
 "nbformat": 4,
 "nbformat_minor": 2
}
